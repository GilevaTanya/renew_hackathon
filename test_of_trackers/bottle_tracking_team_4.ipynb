{
  "metadata": {
    "colab": {
      "provenance": []
    },
    "kernelspec": {
      "name": "python3",
      "display_name": "Python 3",
      "language": "python"
    },
    "language_info": {
      "name": "python",
      "version": "3.10.14",
      "mimetype": "text/x-python",
      "codemirror_mode": {
        "name": "ipython",
        "version": 3
      },
      "pygments_lexer": "ipython3",
      "nbconvert_exporter": "python",
      "file_extension": ".py"
    },
    "toc": {
      "base_numbering": 1,
      "nav_menu": {},
      "number_sections": true,
      "sideBar": true,
      "skip_h1_title": true,
      "title_cell": "Table of Contents",
      "title_sidebar": "Contents",
      "toc_cell": true,
      "toc_position": {},
      "toc_section_display": true,
      "toc_window_display": true
    },
    "widgets": {
      "application/vnd.jupyter.widget-state+json": {
        "07f9bd038ee0488e815d8fcded4a51d9": {
          "model_module": "@jupyter-widgets/controls",
          "model_module_version": "1.5.0",
          "model_name": "DescriptionStyleModel",
          "state": {
            "_model_module": "@jupyter-widgets/controls",
            "_model_module_version": "1.5.0",
            "_model_name": "DescriptionStyleModel",
            "_view_count": null,
            "_view_module": "@jupyter-widgets/base",
            "_view_module_version": "1.2.0",
            "_view_name": "StyleView",
            "description_width": ""
          }
        },
        "08e4dbb1f1f4438280851799b0b27ab5": {
          "model_module": "@jupyter-widgets/controls",
          "model_module_version": "1.5.0",
          "model_name": "DescriptionStyleModel",
          "state": {
            "_model_module": "@jupyter-widgets/controls",
            "_model_module_version": "1.5.0",
            "_model_name": "DescriptionStyleModel",
            "_view_count": null,
            "_view_module": "@jupyter-widgets/base",
            "_view_module_version": "1.2.0",
            "_view_name": "StyleView",
            "description_width": ""
          }
        },
        "0ada95f0232b47c99f863aea3f134899": {
          "model_module": "@jupyter-widgets/base",
          "model_module_version": "1.2.0",
          "model_name": "LayoutModel",
          "state": {
            "_model_module": "@jupyter-widgets/base",
            "_model_module_version": "1.2.0",
            "_model_name": "LayoutModel",
            "_view_count": null,
            "_view_module": "@jupyter-widgets/base",
            "_view_module_version": "1.2.0",
            "_view_name": "LayoutView",
            "align_content": null,
            "align_items": null,
            "align_self": null,
            "border": null,
            "bottom": null,
            "display": null,
            "flex": null,
            "flex_flow": null,
            "grid_area": null,
            "grid_auto_columns": null,
            "grid_auto_flow": null,
            "grid_auto_rows": null,
            "grid_column": null,
            "grid_gap": null,
            "grid_row": null,
            "grid_template_areas": null,
            "grid_template_columns": null,
            "grid_template_rows": null,
            "height": null,
            "justify_content": null,
            "justify_items": null,
            "left": null,
            "margin": null,
            "max_height": null,
            "max_width": null,
            "min_height": null,
            "min_width": null,
            "object_fit": null,
            "object_position": null,
            "order": null,
            "overflow": null,
            "overflow_x": null,
            "overflow_y": null,
            "padding": null,
            "right": null,
            "top": null,
            "visibility": null,
            "width": null
          }
        },
        "0c50da12e9f8432ea12a8b396e938a65": {
          "model_module": "@jupyter-widgets/controls",
          "model_module_version": "1.5.0",
          "model_name": "DescriptionStyleModel",
          "state": {
            "_model_module": "@jupyter-widgets/controls",
            "_model_module_version": "1.5.0",
            "_model_name": "DescriptionStyleModel",
            "_view_count": null,
            "_view_module": "@jupyter-widgets/base",
            "_view_module_version": "1.2.0",
            "_view_name": "StyleView",
            "description_width": ""
          }
        },
        "12ba668cf6964effb5ebca3447e4c662": {
          "model_module": "@jupyter-widgets/base",
          "model_module_version": "1.2.0",
          "model_name": "LayoutModel",
          "state": {
            "_model_module": "@jupyter-widgets/base",
            "_model_module_version": "1.2.0",
            "_model_name": "LayoutModel",
            "_view_count": null,
            "_view_module": "@jupyter-widgets/base",
            "_view_module_version": "1.2.0",
            "_view_name": "LayoutView",
            "align_content": null,
            "align_items": null,
            "align_self": null,
            "border": null,
            "bottom": null,
            "display": null,
            "flex": null,
            "flex_flow": null,
            "grid_area": null,
            "grid_auto_columns": null,
            "grid_auto_flow": null,
            "grid_auto_rows": null,
            "grid_column": null,
            "grid_gap": null,
            "grid_row": null,
            "grid_template_areas": null,
            "grid_template_columns": null,
            "grid_template_rows": null,
            "height": null,
            "justify_content": null,
            "justify_items": null,
            "left": null,
            "margin": null,
            "max_height": null,
            "max_width": null,
            "min_height": null,
            "min_width": null,
            "object_fit": null,
            "object_position": null,
            "order": null,
            "overflow": null,
            "overflow_x": null,
            "overflow_y": null,
            "padding": null,
            "right": null,
            "top": null,
            "visibility": null,
            "width": null
          }
        },
        "166e412410fd4d7086ecd4aabba34392": {
          "model_module": "@jupyter-widgets/controls",
          "model_module_version": "1.5.0",
          "model_name": "HTMLModel",
          "state": {
            "_dom_classes": [],
            "_model_module": "@jupyter-widgets/controls",
            "_model_module_version": "1.5.0",
            "_model_name": "HTMLModel",
            "_view_count": null,
            "_view_module": "@jupyter-widgets/controls",
            "_view_module_version": "1.5.0",
            "_view_name": "HTMLView",
            "description": "",
            "description_tooltip": null,
            "layout": "IPY_MODEL_3d0e8aea7c40489e8bda7cd892cf3ce5",
            "placeholder": "​",
            "style": "IPY_MODEL_cbd3344b9bce432fbc59ffc2da7b7e76",
            "value": "100%"
          }
        },
        "1693c67ea41e4f748397c9faca3f2235": {
          "model_module": "@jupyter-widgets/controls",
          "model_module_version": "1.5.0",
          "model_name": "FloatProgressModel",
          "state": {
            "_dom_classes": [],
            "_model_module": "@jupyter-widgets/controls",
            "_model_module_version": "1.5.0",
            "_model_name": "FloatProgressModel",
            "_view_count": null,
            "_view_module": "@jupyter-widgets/controls",
            "_view_module_version": "1.5.0",
            "_view_name": "ProgressView",
            "bar_style": "success",
            "description": "",
            "description_tooltip": null,
            "layout": "IPY_MODEL_9ea25f11c9b14f36ab1ee7aa0c7f20f3",
            "max": 100,
            "min": 0,
            "orientation": "horizontal",
            "style": "IPY_MODEL_c86cf10d43c04f9dab0fe6fe963e76c9",
            "value": 100
          }
        },
        "172df649fdbd4bd99edd121a3e82bdd4": {
          "model_module": "@jupyter-widgets/controls",
          "model_module_version": "1.5.0",
          "model_name": "DescriptionStyleModel",
          "state": {
            "_model_module": "@jupyter-widgets/controls",
            "_model_module_version": "1.5.0",
            "_model_name": "DescriptionStyleModel",
            "_view_count": null,
            "_view_module": "@jupyter-widgets/base",
            "_view_module_version": "1.2.0",
            "_view_name": "StyleView",
            "description_width": ""
          }
        },
        "204cfa9008a940a189e614200794b2a9": {
          "model_module": "@jupyter-widgets/base",
          "model_module_version": "1.2.0",
          "model_name": "LayoutModel",
          "state": {
            "_model_module": "@jupyter-widgets/base",
            "_model_module_version": "1.2.0",
            "_model_name": "LayoutModel",
            "_view_count": null,
            "_view_module": "@jupyter-widgets/base",
            "_view_module_version": "1.2.0",
            "_view_name": "LayoutView",
            "align_content": null,
            "align_items": null,
            "align_self": null,
            "border": null,
            "bottom": null,
            "display": null,
            "flex": null,
            "flex_flow": null,
            "grid_area": null,
            "grid_auto_columns": null,
            "grid_auto_flow": null,
            "grid_auto_rows": null,
            "grid_column": null,
            "grid_gap": null,
            "grid_row": null,
            "grid_template_areas": null,
            "grid_template_columns": null,
            "grid_template_rows": null,
            "height": null,
            "justify_content": null,
            "justify_items": null,
            "left": null,
            "margin": null,
            "max_height": null,
            "max_width": null,
            "min_height": null,
            "min_width": null,
            "object_fit": null,
            "object_position": null,
            "order": null,
            "overflow": null,
            "overflow_x": null,
            "overflow_y": null,
            "padding": null,
            "right": null,
            "top": null,
            "visibility": null,
            "width": null
          }
        },
        "24fdbddefad94c0f945ef90e6a37b8a7": {
          "model_module": "@jupyter-widgets/controls",
          "model_module_version": "1.5.0",
          "model_name": "DescriptionStyleModel",
          "state": {
            "_model_module": "@jupyter-widgets/controls",
            "_model_module_version": "1.5.0",
            "_model_name": "DescriptionStyleModel",
            "_view_count": null,
            "_view_module": "@jupyter-widgets/base",
            "_view_module_version": "1.2.0",
            "_view_name": "StyleView",
            "description_width": ""
          }
        },
        "278a3bcbfc1d4e838eb5a1e8b4a2f8da": {
          "model_module": "@jupyter-widgets/controls",
          "model_module_version": "1.5.0",
          "model_name": "HBoxModel",
          "state": {
            "_dom_classes": [],
            "_model_module": "@jupyter-widgets/controls",
            "_model_module_version": "1.5.0",
            "_model_name": "HBoxModel",
            "_view_count": null,
            "_view_module": "@jupyter-widgets/controls",
            "_view_module_version": "1.5.0",
            "_view_name": "HBoxView",
            "box_style": "",
            "children": [
              "IPY_MODEL_31dbd39476234e7b8cfb27c3223775e3",
              "IPY_MODEL_7269ea2f8ffc4ed3a854e25c4ca3750e",
              "IPY_MODEL_414f56537bfd4b1999947ac1b657927d"
            ],
            "layout": "IPY_MODEL_64caceae90e14d789ccf9796d0bf0d10"
          }
        },
        "31dbd39476234e7b8cfb27c3223775e3": {
          "model_module": "@jupyter-widgets/controls",
          "model_module_version": "1.5.0",
          "model_name": "HTMLModel",
          "state": {
            "_dom_classes": [],
            "_model_module": "@jupyter-widgets/controls",
            "_model_module_version": "1.5.0",
            "_model_name": "HTMLModel",
            "_view_count": null,
            "_view_module": "@jupyter-widgets/controls",
            "_view_module_version": "1.5.0",
            "_view_name": "HTMLView",
            "description": "",
            "description_tooltip": null,
            "layout": "IPY_MODEL_de8f4cc9ec844c5f908530ef3a06f9bf",
            "placeholder": "​",
            "style": "IPY_MODEL_172df649fdbd4bd99edd121a3e82bdd4",
            "value": "100%"
          }
        },
        "346bd06f42634d23ab3489334cb86cf9": {
          "model_module": "@jupyter-widgets/controls",
          "model_module_version": "1.5.0",
          "model_name": "HTMLModel",
          "state": {
            "_dom_classes": [],
            "_model_module": "@jupyter-widgets/controls",
            "_model_module_version": "1.5.0",
            "_model_name": "HTMLModel",
            "_view_count": null,
            "_view_module": "@jupyter-widgets/controls",
            "_view_module_version": "1.5.0",
            "_view_name": "HTMLView",
            "description": "",
            "description_tooltip": null,
            "layout": "IPY_MODEL_fda3182fdc4942cea9e9091fd800dd68",
            "placeholder": "​",
            "style": "IPY_MODEL_24fdbddefad94c0f945ef90e6a37b8a7",
            "value": " 100/100 [08:16&lt;00:00,  5.83s/it]"
          }
        },
        "3d0e8aea7c40489e8bda7cd892cf3ce5": {
          "model_module": "@jupyter-widgets/base",
          "model_module_version": "1.2.0",
          "model_name": "LayoutModel",
          "state": {
            "_model_module": "@jupyter-widgets/base",
            "_model_module_version": "1.2.0",
            "_model_name": "LayoutModel",
            "_view_count": null,
            "_view_module": "@jupyter-widgets/base",
            "_view_module_version": "1.2.0",
            "_view_name": "LayoutView",
            "align_content": null,
            "align_items": null,
            "align_self": null,
            "border": null,
            "bottom": null,
            "display": null,
            "flex": null,
            "flex_flow": null,
            "grid_area": null,
            "grid_auto_columns": null,
            "grid_auto_flow": null,
            "grid_auto_rows": null,
            "grid_column": null,
            "grid_gap": null,
            "grid_row": null,
            "grid_template_areas": null,
            "grid_template_columns": null,
            "grid_template_rows": null,
            "height": null,
            "justify_content": null,
            "justify_items": null,
            "left": null,
            "margin": null,
            "max_height": null,
            "max_width": null,
            "min_height": null,
            "min_width": null,
            "object_fit": null,
            "object_position": null,
            "order": null,
            "overflow": null,
            "overflow_x": null,
            "overflow_y": null,
            "padding": null,
            "right": null,
            "top": null,
            "visibility": null,
            "width": null
          }
        },
        "3e3055f5ade34e43bb37d7decc8bef1b": {
          "model_module": "@jupyter-widgets/controls",
          "model_module_version": "1.5.0",
          "model_name": "ProgressStyleModel",
          "state": {
            "_model_module": "@jupyter-widgets/controls",
            "_model_module_version": "1.5.0",
            "_model_name": "ProgressStyleModel",
            "_view_count": null,
            "_view_module": "@jupyter-widgets/base",
            "_view_module_version": "1.2.0",
            "_view_name": "StyleView",
            "bar_color": null,
            "description_width": ""
          }
        },
        "414f56537bfd4b1999947ac1b657927d": {
          "model_module": "@jupyter-widgets/controls",
          "model_module_version": "1.5.0",
          "model_name": "HTMLModel",
          "state": {
            "_dom_classes": [],
            "_model_module": "@jupyter-widgets/controls",
            "_model_module_version": "1.5.0",
            "_model_name": "HTMLModel",
            "_view_count": null,
            "_view_module": "@jupyter-widgets/controls",
            "_view_module_version": "1.5.0",
            "_view_name": "HTMLView",
            "description": "",
            "description_tooltip": null,
            "layout": "IPY_MODEL_0ada95f0232b47c99f863aea3f134899",
            "placeholder": "​",
            "style": "IPY_MODEL_07f9bd038ee0488e815d8fcded4a51d9",
            "value": " 100/100 [07:53&lt;00:00,  4.72s/it]"
          }
        },
        "4389f403dcb54201a16294aa9088f8eb": {
          "model_module": "@jupyter-widgets/controls",
          "model_module_version": "1.5.0",
          "model_name": "ProgressStyleModel",
          "state": {
            "_model_module": "@jupyter-widgets/controls",
            "_model_module_version": "1.5.0",
            "_model_name": "ProgressStyleModel",
            "_view_count": null,
            "_view_module": "@jupyter-widgets/base",
            "_view_module_version": "1.2.0",
            "_view_name": "StyleView",
            "bar_color": null,
            "description_width": ""
          }
        },
        "533a5790e9e64afd9f6e028cc609bde5": {
          "model_module": "@jupyter-widgets/base",
          "model_module_version": "1.2.0",
          "model_name": "LayoutModel",
          "state": {
            "_model_module": "@jupyter-widgets/base",
            "_model_module_version": "1.2.0",
            "_model_name": "LayoutModel",
            "_view_count": null,
            "_view_module": "@jupyter-widgets/base",
            "_view_module_version": "1.2.0",
            "_view_name": "LayoutView",
            "align_content": null,
            "align_items": null,
            "align_self": null,
            "border": null,
            "bottom": null,
            "display": null,
            "flex": null,
            "flex_flow": null,
            "grid_area": null,
            "grid_auto_columns": null,
            "grid_auto_flow": null,
            "grid_auto_rows": null,
            "grid_column": null,
            "grid_gap": null,
            "grid_row": null,
            "grid_template_areas": null,
            "grid_template_columns": null,
            "grid_template_rows": null,
            "height": null,
            "justify_content": null,
            "justify_items": null,
            "left": null,
            "margin": null,
            "max_height": null,
            "max_width": null,
            "min_height": null,
            "min_width": null,
            "object_fit": null,
            "object_position": null,
            "order": null,
            "overflow": null,
            "overflow_x": null,
            "overflow_y": null,
            "padding": null,
            "right": null,
            "top": null,
            "visibility": null,
            "width": null
          }
        },
        "64caceae90e14d789ccf9796d0bf0d10": {
          "model_module": "@jupyter-widgets/base",
          "model_module_version": "1.2.0",
          "model_name": "LayoutModel",
          "state": {
            "_model_module": "@jupyter-widgets/base",
            "_model_module_version": "1.2.0",
            "_model_name": "LayoutModel",
            "_view_count": null,
            "_view_module": "@jupyter-widgets/base",
            "_view_module_version": "1.2.0",
            "_view_name": "LayoutView",
            "align_content": null,
            "align_items": null,
            "align_self": null,
            "border": null,
            "bottom": null,
            "display": null,
            "flex": null,
            "flex_flow": null,
            "grid_area": null,
            "grid_auto_columns": null,
            "grid_auto_flow": null,
            "grid_auto_rows": null,
            "grid_column": null,
            "grid_gap": null,
            "grid_row": null,
            "grid_template_areas": null,
            "grid_template_columns": null,
            "grid_template_rows": null,
            "height": null,
            "justify_content": null,
            "justify_items": null,
            "left": null,
            "margin": null,
            "max_height": null,
            "max_width": null,
            "min_height": null,
            "min_width": null,
            "object_fit": null,
            "object_position": null,
            "order": null,
            "overflow": null,
            "overflow_x": null,
            "overflow_y": null,
            "padding": null,
            "right": null,
            "top": null,
            "visibility": null,
            "width": null
          }
        },
        "6afce3bc324e464aa4974a74b48c883d": {
          "model_module": "@jupyter-widgets/base",
          "model_module_version": "1.2.0",
          "model_name": "LayoutModel",
          "state": {
            "_model_module": "@jupyter-widgets/base",
            "_model_module_version": "1.2.0",
            "_model_name": "LayoutModel",
            "_view_count": null,
            "_view_module": "@jupyter-widgets/base",
            "_view_module_version": "1.2.0",
            "_view_name": "LayoutView",
            "align_content": null,
            "align_items": null,
            "align_self": null,
            "border": null,
            "bottom": null,
            "display": null,
            "flex": null,
            "flex_flow": null,
            "grid_area": null,
            "grid_auto_columns": null,
            "grid_auto_flow": null,
            "grid_auto_rows": null,
            "grid_column": null,
            "grid_gap": null,
            "grid_row": null,
            "grid_template_areas": null,
            "grid_template_columns": null,
            "grid_template_rows": null,
            "height": null,
            "justify_content": null,
            "justify_items": null,
            "left": null,
            "margin": null,
            "max_height": null,
            "max_width": null,
            "min_height": null,
            "min_width": null,
            "object_fit": null,
            "object_position": null,
            "order": null,
            "overflow": null,
            "overflow_x": null,
            "overflow_y": null,
            "padding": null,
            "right": null,
            "top": null,
            "visibility": null,
            "width": null
          }
        },
        "7269ea2f8ffc4ed3a854e25c4ca3750e": {
          "model_module": "@jupyter-widgets/controls",
          "model_module_version": "1.5.0",
          "model_name": "FloatProgressModel",
          "state": {
            "_dom_classes": [],
            "_model_module": "@jupyter-widgets/controls",
            "_model_module_version": "1.5.0",
            "_model_name": "FloatProgressModel",
            "_view_count": null,
            "_view_module": "@jupyter-widgets/controls",
            "_view_module_version": "1.5.0",
            "_view_name": "ProgressView",
            "bar_style": "success",
            "description": "",
            "description_tooltip": null,
            "layout": "IPY_MODEL_12ba668cf6964effb5ebca3447e4c662",
            "max": 100,
            "min": 0,
            "orientation": "horizontal",
            "style": "IPY_MODEL_ace3335180394cd896fd8583774c3776",
            "value": 100
          }
        },
        "77d7cdb8b2bc40428b06df76252ae02f": {
          "model_module": "@jupyter-widgets/controls",
          "model_module_version": "1.5.0",
          "model_name": "DescriptionStyleModel",
          "state": {
            "_model_module": "@jupyter-widgets/controls",
            "_model_module_version": "1.5.0",
            "_model_name": "DescriptionStyleModel",
            "_view_count": null,
            "_view_module": "@jupyter-widgets/base",
            "_view_module_version": "1.2.0",
            "_view_name": "StyleView",
            "description_width": ""
          }
        },
        "7d1a934f64da4ce58ff4a454c84dd160": {
          "model_module": "@jupyter-widgets/controls",
          "model_module_version": "1.5.0",
          "model_name": "FloatProgressModel",
          "state": {
            "_dom_classes": [],
            "_model_module": "@jupyter-widgets/controls",
            "_model_module_version": "1.5.0",
            "_model_name": "FloatProgressModel",
            "_view_count": null,
            "_view_module": "@jupyter-widgets/controls",
            "_view_module_version": "1.5.0",
            "_view_name": "ProgressView",
            "bar_style": "success",
            "description": "",
            "description_tooltip": null,
            "layout": "IPY_MODEL_204cfa9008a940a189e614200794b2a9",
            "max": 10,
            "min": 0,
            "orientation": "horizontal",
            "style": "IPY_MODEL_3e3055f5ade34e43bb37d7decc8bef1b",
            "value": 10
          }
        },
        "81c710f2b8354347b223896655fe00b5": {
          "model_module": "@jupyter-widgets/controls",
          "model_module_version": "1.5.0",
          "model_name": "HBoxModel",
          "state": {
            "_dom_classes": [],
            "_model_module": "@jupyter-widgets/controls",
            "_model_module_version": "1.5.0",
            "_model_name": "HBoxModel",
            "_view_count": null,
            "_view_module": "@jupyter-widgets/controls",
            "_view_module_version": "1.5.0",
            "_view_name": "HBoxView",
            "box_style": "",
            "children": [
              "IPY_MODEL_f34a06002c7046c09bada38c15d7d5cb",
              "IPY_MODEL_af09befa92b141caa17a4041d1da9a1a",
              "IPY_MODEL_e5a01adb56f348648fc70e9183529da5"
            ],
            "layout": "IPY_MODEL_c4e03ae80dae481ba0693f917cbdc9c1"
          }
        },
        "838806b980ed4cc6a86dc15ffb46c3c2": {
          "model_module": "@jupyter-widgets/base",
          "model_module_version": "1.2.0",
          "model_name": "LayoutModel",
          "state": {
            "_model_module": "@jupyter-widgets/base",
            "_model_module_version": "1.2.0",
            "_model_name": "LayoutModel",
            "_view_count": null,
            "_view_module": "@jupyter-widgets/base",
            "_view_module_version": "1.2.0",
            "_view_name": "LayoutView",
            "align_content": null,
            "align_items": null,
            "align_self": null,
            "border": null,
            "bottom": null,
            "display": null,
            "flex": null,
            "flex_flow": null,
            "grid_area": null,
            "grid_auto_columns": null,
            "grid_auto_flow": null,
            "grid_auto_rows": null,
            "grid_column": null,
            "grid_gap": null,
            "grid_row": null,
            "grid_template_areas": null,
            "grid_template_columns": null,
            "grid_template_rows": null,
            "height": null,
            "justify_content": null,
            "justify_items": null,
            "left": null,
            "margin": null,
            "max_height": null,
            "max_width": null,
            "min_height": null,
            "min_width": null,
            "object_fit": null,
            "object_position": null,
            "order": null,
            "overflow": null,
            "overflow_x": null,
            "overflow_y": null,
            "padding": null,
            "right": null,
            "top": null,
            "visibility": null,
            "width": null
          }
        },
        "940216e3f6804397a9934b76ce393b55": {
          "model_module": "@jupyter-widgets/controls",
          "model_module_version": "1.5.0",
          "model_name": "DescriptionStyleModel",
          "state": {
            "_model_module": "@jupyter-widgets/controls",
            "_model_module_version": "1.5.0",
            "_model_name": "DescriptionStyleModel",
            "_view_count": null,
            "_view_module": "@jupyter-widgets/base",
            "_view_module_version": "1.2.0",
            "_view_name": "StyleView",
            "description_width": ""
          }
        },
        "9ea25f11c9b14f36ab1ee7aa0c7f20f3": {
          "model_module": "@jupyter-widgets/base",
          "model_module_version": "1.2.0",
          "model_name": "LayoutModel",
          "state": {
            "_model_module": "@jupyter-widgets/base",
            "_model_module_version": "1.2.0",
            "_model_name": "LayoutModel",
            "_view_count": null,
            "_view_module": "@jupyter-widgets/base",
            "_view_module_version": "1.2.0",
            "_view_name": "LayoutView",
            "align_content": null,
            "align_items": null,
            "align_self": null,
            "border": null,
            "bottom": null,
            "display": null,
            "flex": null,
            "flex_flow": null,
            "grid_area": null,
            "grid_auto_columns": null,
            "grid_auto_flow": null,
            "grid_auto_rows": null,
            "grid_column": null,
            "grid_gap": null,
            "grid_row": null,
            "grid_template_areas": null,
            "grid_template_columns": null,
            "grid_template_rows": null,
            "height": null,
            "justify_content": null,
            "justify_items": null,
            "left": null,
            "margin": null,
            "max_height": null,
            "max_width": null,
            "min_height": null,
            "min_width": null,
            "object_fit": null,
            "object_position": null,
            "order": null,
            "overflow": null,
            "overflow_x": null,
            "overflow_y": null,
            "padding": null,
            "right": null,
            "top": null,
            "visibility": null,
            "width": null
          }
        },
        "aab1ffe7ba37443da6d497534fb8ac8e": {
          "model_module": "@jupyter-widgets/base",
          "model_module_version": "1.2.0",
          "model_name": "LayoutModel",
          "state": {
            "_model_module": "@jupyter-widgets/base",
            "_model_module_version": "1.2.0",
            "_model_name": "LayoutModel",
            "_view_count": null,
            "_view_module": "@jupyter-widgets/base",
            "_view_module_version": "1.2.0",
            "_view_name": "LayoutView",
            "align_content": null,
            "align_items": null,
            "align_self": null,
            "border": null,
            "bottom": null,
            "display": null,
            "flex": null,
            "flex_flow": null,
            "grid_area": null,
            "grid_auto_columns": null,
            "grid_auto_flow": null,
            "grid_auto_rows": null,
            "grid_column": null,
            "grid_gap": null,
            "grid_row": null,
            "grid_template_areas": null,
            "grid_template_columns": null,
            "grid_template_rows": null,
            "height": null,
            "justify_content": null,
            "justify_items": null,
            "left": null,
            "margin": null,
            "max_height": null,
            "max_width": null,
            "min_height": null,
            "min_width": null,
            "object_fit": null,
            "object_position": null,
            "order": null,
            "overflow": null,
            "overflow_x": null,
            "overflow_y": null,
            "padding": null,
            "right": null,
            "top": null,
            "visibility": null,
            "width": null
          }
        },
        "ace3335180394cd896fd8583774c3776": {
          "model_module": "@jupyter-widgets/controls",
          "model_module_version": "1.5.0",
          "model_name": "ProgressStyleModel",
          "state": {
            "_model_module": "@jupyter-widgets/controls",
            "_model_module_version": "1.5.0",
            "_model_name": "ProgressStyleModel",
            "_view_count": null,
            "_view_module": "@jupyter-widgets/base",
            "_view_module_version": "1.2.0",
            "_view_name": "StyleView",
            "bar_color": null,
            "description_width": ""
          }
        },
        "ad8e0ee881be4716a42bb12a8d45de3c": {
          "model_module": "@jupyter-widgets/controls",
          "model_module_version": "1.5.0",
          "model_name": "HTMLModel",
          "state": {
            "_dom_classes": [],
            "_model_module": "@jupyter-widgets/controls",
            "_model_module_version": "1.5.0",
            "_model_name": "HTMLModel",
            "_view_count": null,
            "_view_module": "@jupyter-widgets/controls",
            "_view_module_version": "1.5.0",
            "_view_name": "HTMLView",
            "description": "",
            "description_tooltip": null,
            "layout": "IPY_MODEL_6afce3bc324e464aa4974a74b48c883d",
            "placeholder": "​",
            "style": "IPY_MODEL_77d7cdb8b2bc40428b06df76252ae02f",
            "value": "100%"
          }
        },
        "af09befa92b141caa17a4041d1da9a1a": {
          "model_module": "@jupyter-widgets/controls",
          "model_module_version": "1.5.0",
          "model_name": "FloatProgressModel",
          "state": {
            "_dom_classes": [],
            "_model_module": "@jupyter-widgets/controls",
            "_model_module_version": "1.5.0",
            "_model_name": "FloatProgressModel",
            "_view_count": null,
            "_view_module": "@jupyter-widgets/controls",
            "_view_module_version": "1.5.0",
            "_view_name": "ProgressView",
            "bar_style": "success",
            "description": "",
            "description_tooltip": null,
            "layout": "IPY_MODEL_f0b449c62f5f44f28486122f99582af3",
            "max": 100,
            "min": 0,
            "orientation": "horizontal",
            "style": "IPY_MODEL_4389f403dcb54201a16294aa9088f8eb",
            "value": 100
          }
        },
        "b30c8ac3936c42b18903da42232966bb": {
          "model_module": "@jupyter-widgets/base",
          "model_module_version": "1.2.0",
          "model_name": "LayoutModel",
          "state": {
            "_model_module": "@jupyter-widgets/base",
            "_model_module_version": "1.2.0",
            "_model_name": "LayoutModel",
            "_view_count": null,
            "_view_module": "@jupyter-widgets/base",
            "_view_module_version": "1.2.0",
            "_view_name": "LayoutView",
            "align_content": null,
            "align_items": null,
            "align_self": null,
            "border": null,
            "bottom": null,
            "display": null,
            "flex": null,
            "flex_flow": null,
            "grid_area": null,
            "grid_auto_columns": null,
            "grid_auto_flow": null,
            "grid_auto_rows": null,
            "grid_column": null,
            "grid_gap": null,
            "grid_row": null,
            "grid_template_areas": null,
            "grid_template_columns": null,
            "grid_template_rows": null,
            "height": null,
            "justify_content": null,
            "justify_items": null,
            "left": null,
            "margin": null,
            "max_height": null,
            "max_width": null,
            "min_height": null,
            "min_width": null,
            "object_fit": null,
            "object_position": null,
            "order": null,
            "overflow": null,
            "overflow_x": null,
            "overflow_y": null,
            "padding": null,
            "right": null,
            "top": null,
            "visibility": null,
            "width": null
          }
        },
        "b3836cfe6b0f4130ad284573ad77edde": {
          "model_module": "@jupyter-widgets/controls",
          "model_module_version": "1.5.0",
          "model_name": "HTMLModel",
          "state": {
            "_dom_classes": [],
            "_model_module": "@jupyter-widgets/controls",
            "_model_module_version": "1.5.0",
            "_model_name": "HTMLModel",
            "_view_count": null,
            "_view_module": "@jupyter-widgets/controls",
            "_view_module_version": "1.5.0",
            "_view_name": "HTMLView",
            "description": "",
            "description_tooltip": null,
            "layout": "IPY_MODEL_aab1ffe7ba37443da6d497534fb8ac8e",
            "placeholder": "​",
            "style": "IPY_MODEL_0c50da12e9f8432ea12a8b396e938a65",
            "value": " 10/10 [00:52&lt;00:00,  5.59s/it]"
          }
        },
        "c35dee179cbb4fe2b7e2171090c2410e": {
          "model_module": "@jupyter-widgets/controls",
          "model_module_version": "1.5.0",
          "model_name": "HBoxModel",
          "state": {
            "_dom_classes": [],
            "_model_module": "@jupyter-widgets/controls",
            "_model_module_version": "1.5.0",
            "_model_name": "HBoxModel",
            "_view_count": null,
            "_view_module": "@jupyter-widgets/controls",
            "_view_module_version": "1.5.0",
            "_view_name": "HBoxView",
            "box_style": "",
            "children": [
              "IPY_MODEL_166e412410fd4d7086ecd4aabba34392",
              "IPY_MODEL_7d1a934f64da4ce58ff4a454c84dd160",
              "IPY_MODEL_b3836cfe6b0f4130ad284573ad77edde"
            ],
            "layout": "IPY_MODEL_c3a698a2906343bc9ea90f8d05eabbc2"
          }
        },
        "c3a698a2906343bc9ea90f8d05eabbc2": {
          "model_module": "@jupyter-widgets/base",
          "model_module_version": "1.2.0",
          "model_name": "LayoutModel",
          "state": {
            "_model_module": "@jupyter-widgets/base",
            "_model_module_version": "1.2.0",
            "_model_name": "LayoutModel",
            "_view_count": null,
            "_view_module": "@jupyter-widgets/base",
            "_view_module_version": "1.2.0",
            "_view_name": "LayoutView",
            "align_content": null,
            "align_items": null,
            "align_self": null,
            "border": null,
            "bottom": null,
            "display": null,
            "flex": null,
            "flex_flow": null,
            "grid_area": null,
            "grid_auto_columns": null,
            "grid_auto_flow": null,
            "grid_auto_rows": null,
            "grid_column": null,
            "grid_gap": null,
            "grid_row": null,
            "grid_template_areas": null,
            "grid_template_columns": null,
            "grid_template_rows": null,
            "height": null,
            "justify_content": null,
            "justify_items": null,
            "left": null,
            "margin": null,
            "max_height": null,
            "max_width": null,
            "min_height": null,
            "min_width": null,
            "object_fit": null,
            "object_position": null,
            "order": null,
            "overflow": null,
            "overflow_x": null,
            "overflow_y": null,
            "padding": null,
            "right": null,
            "top": null,
            "visibility": null,
            "width": null
          }
        },
        "c4e03ae80dae481ba0693f917cbdc9c1": {
          "model_module": "@jupyter-widgets/base",
          "model_module_version": "1.2.0",
          "model_name": "LayoutModel",
          "state": {
            "_model_module": "@jupyter-widgets/base",
            "_model_module_version": "1.2.0",
            "_model_name": "LayoutModel",
            "_view_count": null,
            "_view_module": "@jupyter-widgets/base",
            "_view_module_version": "1.2.0",
            "_view_name": "LayoutView",
            "align_content": null,
            "align_items": null,
            "align_self": null,
            "border": null,
            "bottom": null,
            "display": null,
            "flex": null,
            "flex_flow": null,
            "grid_area": null,
            "grid_auto_columns": null,
            "grid_auto_flow": null,
            "grid_auto_rows": null,
            "grid_column": null,
            "grid_gap": null,
            "grid_row": null,
            "grid_template_areas": null,
            "grid_template_columns": null,
            "grid_template_rows": null,
            "height": null,
            "justify_content": null,
            "justify_items": null,
            "left": null,
            "margin": null,
            "max_height": null,
            "max_width": null,
            "min_height": null,
            "min_width": null,
            "object_fit": null,
            "object_position": null,
            "order": null,
            "overflow": null,
            "overflow_x": null,
            "overflow_y": null,
            "padding": null,
            "right": null,
            "top": null,
            "visibility": null,
            "width": null
          }
        },
        "c86cf10d43c04f9dab0fe6fe963e76c9": {
          "model_module": "@jupyter-widgets/controls",
          "model_module_version": "1.5.0",
          "model_name": "ProgressStyleModel",
          "state": {
            "_model_module": "@jupyter-widgets/controls",
            "_model_module_version": "1.5.0",
            "_model_name": "ProgressStyleModel",
            "_view_count": null,
            "_view_module": "@jupyter-widgets/base",
            "_view_module_version": "1.2.0",
            "_view_name": "StyleView",
            "bar_color": null,
            "description_width": ""
          }
        },
        "cbd3344b9bce432fbc59ffc2da7b7e76": {
          "model_module": "@jupyter-widgets/controls",
          "model_module_version": "1.5.0",
          "model_name": "DescriptionStyleModel",
          "state": {
            "_model_module": "@jupyter-widgets/controls",
            "_model_module_version": "1.5.0",
            "_model_name": "DescriptionStyleModel",
            "_view_count": null,
            "_view_module": "@jupyter-widgets/base",
            "_view_module_version": "1.2.0",
            "_view_name": "StyleView",
            "description_width": ""
          }
        },
        "de8f4cc9ec844c5f908530ef3a06f9bf": {
          "model_module": "@jupyter-widgets/base",
          "model_module_version": "1.2.0",
          "model_name": "LayoutModel",
          "state": {
            "_model_module": "@jupyter-widgets/base",
            "_model_module_version": "1.2.0",
            "_model_name": "LayoutModel",
            "_view_count": null,
            "_view_module": "@jupyter-widgets/base",
            "_view_module_version": "1.2.0",
            "_view_name": "LayoutView",
            "align_content": null,
            "align_items": null,
            "align_self": null,
            "border": null,
            "bottom": null,
            "display": null,
            "flex": null,
            "flex_flow": null,
            "grid_area": null,
            "grid_auto_columns": null,
            "grid_auto_flow": null,
            "grid_auto_rows": null,
            "grid_column": null,
            "grid_gap": null,
            "grid_row": null,
            "grid_template_areas": null,
            "grid_template_columns": null,
            "grid_template_rows": null,
            "height": null,
            "justify_content": null,
            "justify_items": null,
            "left": null,
            "margin": null,
            "max_height": null,
            "max_width": null,
            "min_height": null,
            "min_width": null,
            "object_fit": null,
            "object_position": null,
            "order": null,
            "overflow": null,
            "overflow_x": null,
            "overflow_y": null,
            "padding": null,
            "right": null,
            "top": null,
            "visibility": null,
            "width": null
          }
        },
        "e5a01adb56f348648fc70e9183529da5": {
          "model_module": "@jupyter-widgets/controls",
          "model_module_version": "1.5.0",
          "model_name": "HTMLModel",
          "state": {
            "_dom_classes": [],
            "_model_module": "@jupyter-widgets/controls",
            "_model_module_version": "1.5.0",
            "_model_name": "HTMLModel",
            "_view_count": null,
            "_view_module": "@jupyter-widgets/controls",
            "_view_module_version": "1.5.0",
            "_view_name": "HTMLView",
            "description": "",
            "description_tooltip": null,
            "layout": "IPY_MODEL_533a5790e9e64afd9f6e028cc609bde5",
            "placeholder": "​",
            "style": "IPY_MODEL_940216e3f6804397a9934b76ce393b55",
            "value": " 100/100 [07:49&lt;00:00,  4.58s/it]"
          }
        },
        "f0b449c62f5f44f28486122f99582af3": {
          "model_module": "@jupyter-widgets/base",
          "model_module_version": "1.2.0",
          "model_name": "LayoutModel",
          "state": {
            "_model_module": "@jupyter-widgets/base",
            "_model_module_version": "1.2.0",
            "_model_name": "LayoutModel",
            "_view_count": null,
            "_view_module": "@jupyter-widgets/base",
            "_view_module_version": "1.2.0",
            "_view_name": "LayoutView",
            "align_content": null,
            "align_items": null,
            "align_self": null,
            "border": null,
            "bottom": null,
            "display": null,
            "flex": null,
            "flex_flow": null,
            "grid_area": null,
            "grid_auto_columns": null,
            "grid_auto_flow": null,
            "grid_auto_rows": null,
            "grid_column": null,
            "grid_gap": null,
            "grid_row": null,
            "grid_template_areas": null,
            "grid_template_columns": null,
            "grid_template_rows": null,
            "height": null,
            "justify_content": null,
            "justify_items": null,
            "left": null,
            "margin": null,
            "max_height": null,
            "max_width": null,
            "min_height": null,
            "min_width": null,
            "object_fit": null,
            "object_position": null,
            "order": null,
            "overflow": null,
            "overflow_x": null,
            "overflow_y": null,
            "padding": null,
            "right": null,
            "top": null,
            "visibility": null,
            "width": null
          }
        },
        "f34a06002c7046c09bada38c15d7d5cb": {
          "model_module": "@jupyter-widgets/controls",
          "model_module_version": "1.5.0",
          "model_name": "HTMLModel",
          "state": {
            "_dom_classes": [],
            "_model_module": "@jupyter-widgets/controls",
            "_model_module_version": "1.5.0",
            "_model_name": "HTMLModel",
            "_view_count": null,
            "_view_module": "@jupyter-widgets/controls",
            "_view_module_version": "1.5.0",
            "_view_name": "HTMLView",
            "description": "",
            "description_tooltip": null,
            "layout": "IPY_MODEL_b30c8ac3936c42b18903da42232966bb",
            "placeholder": "​",
            "style": "IPY_MODEL_08e4dbb1f1f4438280851799b0b27ab5",
            "value": "100%"
          }
        },
        "fc23bea1d0044d079b484b73cf7469d4": {
          "model_module": "@jupyter-widgets/controls",
          "model_module_version": "1.5.0",
          "model_name": "HBoxModel",
          "state": {
            "_dom_classes": [],
            "_model_module": "@jupyter-widgets/controls",
            "_model_module_version": "1.5.0",
            "_model_name": "HBoxModel",
            "_view_count": null,
            "_view_module": "@jupyter-widgets/controls",
            "_view_module_version": "1.5.0",
            "_view_name": "HBoxView",
            "box_style": "",
            "children": [
              "IPY_MODEL_ad8e0ee881be4716a42bb12a8d45de3c",
              "IPY_MODEL_1693c67ea41e4f748397c9faca3f2235",
              "IPY_MODEL_346bd06f42634d23ab3489334cb86cf9"
            ],
            "layout": "IPY_MODEL_838806b980ed4cc6a86dc15ffb46c3c2"
          }
        },
        "fda3182fdc4942cea9e9091fd800dd68": {
          "model_module": "@jupyter-widgets/base",
          "model_module_version": "1.2.0",
          "model_name": "LayoutModel",
          "state": {
            "_model_module": "@jupyter-widgets/base",
            "_model_module_version": "1.2.0",
            "_model_name": "LayoutModel",
            "_view_count": null,
            "_view_module": "@jupyter-widgets/base",
            "_view_module_version": "1.2.0",
            "_view_name": "LayoutView",
            "align_content": null,
            "align_items": null,
            "align_self": null,
            "border": null,
            "bottom": null,
            "display": null,
            "flex": null,
            "flex_flow": null,
            "grid_area": null,
            "grid_auto_columns": null,
            "grid_auto_flow": null,
            "grid_auto_rows": null,
            "grid_column": null,
            "grid_gap": null,
            "grid_row": null,
            "grid_template_areas": null,
            "grid_template_columns": null,
            "grid_template_rows": null,
            "height": null,
            "justify_content": null,
            "justify_items": null,
            "left": null,
            "margin": null,
            "max_height": null,
            "max_width": null,
            "min_height": null,
            "min_width": null,
            "object_fit": null,
            "object_position": null,
            "order": null,
            "overflow": null,
            "overflow_x": null,
            "overflow_y": null,
            "padding": null,
            "right": null,
            "top": null,
            "visibility": null,
            "width": null
          }
        }
      }
    },
    "kaggle": {
      "accelerator": "nvidiaTeslaT4",
      "dataSources": [
        {
          "sourceId": 9292739,
          "sourceType": "datasetVersion",
          "datasetId": 5601917
        },
        {
          "sourceId": 9293005,
          "sourceType": "datasetVersion",
          "datasetId": 5626081
        }
      ],
      "dockerImageVersionId": 30762,
      "isInternetEnabled": true,
      "language": "python",
      "sourceType": "notebook",
      "isGpuEnabled": true
    }
  },
  "nbformat_minor": 0,
  "nbformat": 4,
  "cells": [
    {
      "cell_type": "markdown",
      "source": [
        "# Отслеживание объектов на ленте конвейера\n",
        "**Хакатон компании Ренью**\n",
        "\n",
        "**Задача**:  Создать трекер для отслеживания движущихся объектов на ленте конвейера мусороперерабатывающего завода. (пластиковые бутылки разных типов)\n",
        "  \n",
        "**Заказчик**: Renue, IT-компания г. Екатеринбург\n",
        "\n",
        "**Сроки проекта**: 19/08/24 - 09/09/24.\n",
        "\n",
        "**Стек технологий**: cv2, ultralytics, YOLO8, BoT-SORT, ByteTrack, SORT, DeepSORT.\n",
        "\n",
        "### Описание:\n",
        "На мусороперерабатывающем заводе над конвейерной лентой установлена камера, которая фиксирует движение пластикового мусора. Данные в потоке передаются детектору и трекеру, которые определяют тип мусора и координаты bounding box.\n",
        "  \n",
        "Необходимо улучшить работу трекера:\n",
        "  - получение более точных координат bounding box;\n",
        "  - обеспечить устойчивость прослеживания объекта без смены ID;\n",
        "\n",
        "### Требования заказчика:\n",
        "* в течении 2х недель разработать решение для отслеживания объектов на ленте конвейера\n",
        "* скорость обработки должна быть не более 100мс на кадр\n",
        "* добиться наилучшего значения метрики MOTA\n",
        "* подготовить отчет о работе.\n",
        "\n",
        "### Исходные данные:\n",
        "* Примеры видеозаписей работы конвейера\n",
        "* Модель детекции и код для ее запуска (пример)\n",
        "* Датасет в нескольких форматах: MOT, COCO, CVAT\n",
        "  - изображения\n",
        "  - разметка\n",
        "* Ссылка на данные https://...\n",
        "\n",
        "### Состав команды:\n",
        "Альбина,  @AlbinaUsaeva  \n",
        "Татьяна, @Tanya_GileT  \n",
        "Павел, @keyboardnorth  \n",
        "\n",
        "\n"
      ],
      "metadata": {
        "id": "CKPo7EknHmO8"
      }
    },
    {
      "cell_type": "markdown",
      "source": [
        "# Установка библиотек"
      ],
      "metadata": {
        "id": "_yySBYPkGeO5"
      }
    },
    {
      "cell_type": "markdown",
      "source": [
        "# Загрузка библиотек"
      ],
      "metadata": {
        "id": "W8SjuKlAG-Fq"
      }
    },
    {
      "cell_type": "code",
      "source": [
        "from collections import defaultdict\n",
        "import pandas as pd\n",
        "import numpy as np\n",
        "import matplotlib.pyplot as plt\n",
        "\n",
        "import random\n",
        "from tqdm.notebook import tqdm\n",
        "\n",
        "from time import time\n",
        "import datetime\n",
        "from datetime import timedelta\n",
        "\n",
        "from ultralytics import YOLO\n",
        "import cv2\n",
        "from deep_sort_realtime.deepsort_tracker import DeepSort\n",
        "from deep_sort_realtime.deepsort_tracker import Tracker\n",
        "import motmetrics as mm\n",
        "\n",
        "import sys\n",
        "import os"
      ],
      "metadata": {
        "id": "DYMnh4k-Fxao",
        "execution": {
          "iopub.status.busy": "2024-09-02T17:01:40.400548Z",
          "iopub.execute_input": "2024-09-02T17:01:40.401449Z",
          "iopub.status.idle": "2024-09-02T17:01:48.195232Z",
          "shell.execute_reply.started": "2024-09-02T17:01:40.401405Z",
          "shell.execute_reply": "2024-09-02T17:01:48.194450Z"
        },
        "trusted": true
      },
      "execution_count": null,
      "outputs": []
    },
    {
      "cell_type": "code",
      "source": [
        "sys.path.append(os.path.dirname('/kaggle/input/trackers/sort_for_Kaggle.py'))\n",
        "from sort_for_Kaggle import Sort"
      ],
      "metadata": {
        "execution": {
          "iopub.status.busy": "2024-09-02T17:01:55.740759Z",
          "iopub.execute_input": "2024-09-02T17:01:55.741832Z",
          "iopub.status.idle": "2024-09-02T17:01:56.394785Z",
          "shell.execute_reply.started": "2024-09-02T17:01:55.741793Z",
          "shell.execute_reply": "2024-09-02T17:01:56.393833Z"
        },
        "trusted": true,
        "id": "psc8dLwgFEVu"
      },
      "execution_count": null,
      "outputs": []
    },
    {
      "cell_type": "markdown",
      "source": [
        "# Константы"
      ],
      "metadata": {
        "id": "iPqWetpfMySK"
      }
    },
    {
      "cell_type": "code",
      "source": [
        "# задание константных значений\n",
        "CONFIDENCE_THRESHOLD = 0.7\n",
        "IOU = 0.3\n",
        "MAX_AGE = 60"
      ],
      "metadata": {
        "id": "8SmginWCFxdk",
        "execution": {
          "iopub.status.busy": "2024-09-02T17:01:59.550023Z",
          "iopub.execute_input": "2024-09-02T17:01:59.550896Z",
          "iopub.status.idle": "2024-09-02T17:01:59.555221Z",
          "shell.execute_reply.started": "2024-09-02T17:01:59.550851Z",
          "shell.execute_reply": "2024-09-02T17:01:59.554287Z"
        },
        "trusted": true
      },
      "execution_count": null,
      "outputs": []
    },
    {
      "cell_type": "code",
      "source": [
        "# переменная для обращения к видео\n",
        "#video_path = \"/content/31-03-2024-09%3A34%3A24.mp4\"\n",
        "video_path = \"/kaggle/input/tracking-of-bottles/Videos/Videos/31-03-2024-09%3A34%3A24.mp4\""
      ],
      "metadata": {
        "id": "oGXw0MuFM3eu",
        "execution": {
          "iopub.status.busy": "2024-09-02T17:02:03.062042Z",
          "iopub.execute_input": "2024-09-02T17:02:03.062422Z",
          "iopub.status.idle": "2024-09-02T17:02:03.066751Z",
          "shell.execute_reply.started": "2024-09-02T17:02:03.062386Z",
          "shell.execute_reply": "2024-09-02T17:02:03.065783Z"
        },
        "trusted": true
      },
      "execution_count": null,
      "outputs": []
    },
    {
      "cell_type": "markdown",
      "source": [
        "# Создание необходимых функций"
      ],
      "metadata": {
        "id": "r_skhTz8OLjS"
      }
    },
    {
      "cell_type": "code",
      "source": [
        "# функция для записи видео\n",
        "def create_video_writer(cap, output_filename):\n",
        "\n",
        "    # grab the width, height, and fps of the frames in the video stream.\n",
        "    frame_width = int(cap.get(cv2.CAP_PROP_FRAME_WIDTH))\n",
        "    frame_height = int(cap.get(cv2.CAP_PROP_FRAME_HEIGHT))\n",
        "    fps = int(cap.get(cv2.CAP_PROP_FPS))\n",
        "\n",
        "    # initialize the FourCC and a video writer object\n",
        "    fourcc = cv2.VideoWriter_fourcc(*'MP4V')\n",
        "    writer = cv2.VideoWriter(output_filename, fourcc, fps,\n",
        "                             (frame_width, frame_height))\n",
        "\n",
        "    return writer"
      ],
      "metadata": {
        "id": "RcUjXnHgE15u",
        "execution": {
          "iopub.status.busy": "2024-09-02T17:02:19.823804Z",
          "iopub.execute_input": "2024-09-02T17:02:19.824518Z",
          "iopub.status.idle": "2024-09-02T17:02:19.830255Z",
          "shell.execute_reply.started": "2024-09-02T17:02:19.824473Z",
          "shell.execute_reply": "2024-09-02T17:02:19.829399Z"
        },
        "trusted": true
      },
      "execution_count": null,
      "outputs": []
    },
    {
      "cell_type": "code",
      "source": [
        "# функция для расчета метрики MOTA\n",
        "\n",
        "def motMetricsEnhancedCalculator(gtSource, tSource, min_fr=1, max_fr=101):\n",
        "    '''вычисляет метрику MOTA; на входе путь к размеченному датасету и с новой разметкой'''\n",
        "    # load ground truth\n",
        "    gt = np.loadtxt(gtSource, delimiter=',')\n",
        "\n",
        "    # load tracking output\n",
        "    try:\n",
        "        t = np.loadtxt(tSource, delimiter=',')\n",
        "    except:\n",
        "        t = tSource\n",
        "\n",
        "    # Create an accumulator that will be updated during each frame\n",
        "    acc = mm.MOTAccumulator(auto_id=True)\n",
        "\n",
        "    # Max frame number maybe different for gt and t files\n",
        "    #for frame in range(1, int(gt[:,0].max())+1):      # detection and frame numbers begin at 1\n",
        "    for frame in range(min_fr,max_fr):    # задаём конкретные фреймы\n",
        "\n",
        "        # select id, x, y, width, height for current frame\n",
        "        # required format for distance calculation is X, Y, Width, Height \\\n",
        "        # We already have this format\n",
        "        gt_dets = gt[gt[:,0]==frame,1:6] # select all detections in gt\n",
        "        t_dets  =  t[t [:,0]==frame,1:6] # select all detections in t\n",
        "\n",
        "        C = mm.distances.iou_matrix(gt_dets[:,1:], t_dets[:,1:], \\\n",
        "                                    max_iou=0.5) # format: gt, t\n",
        "\n",
        "        # Call update once for per frame.\n",
        "        # format: gt object ids, t object ids, distance\n",
        "        acc.update(gt_dets[:,0].astype('int').tolist(), \\\n",
        "                  t_dets[:,0].astype('int').tolist(), C)\n",
        "\n",
        "    mh = mm.metrics.create()\n",
        "\n",
        "    return mh.compute(acc, metrics=['num_frames', 'recall', 'precision', 'num_objects',\n",
        "                                    'num_switches', 'mota', 'motp'], name='acc')"
      ],
      "metadata": {
        "id": "Wz0y2zNlM3l4",
        "execution": {
          "iopub.status.busy": "2024-09-02T17:02:23.809146Z",
          "iopub.execute_input": "2024-09-02T17:02:23.809519Z",
          "iopub.status.idle": "2024-09-02T17:02:23.819766Z",
          "shell.execute_reply.started": "2024-09-02T17:02:23.809478Z",
          "shell.execute_reply": "2024-09-02T17:02:23.818900Z"
        },
        "trusted": true
      },
      "execution_count": null,
      "outputs": []
    },
    {
      "cell_type": "markdown",
      "source": [
        "# Разработка базового решения\n",
        "- вывод на экран результатов работы встроенного трекера YOLO на 10 кадрах\n",
        "- тестирование работы различных трекеров на 100 фреймах, выбор трекера с наилучшим результатов\n",
        "- подбор гиперпараметров наилучшего трекера\n",
        "- расчет финальной метрики на 9000 фреймах, запись видео с результатом."
      ],
      "metadata": {
        "id": "1dy4VyRIWCko"
      }
    },
    {
      "cell_type": "markdown",
      "source": [
        "# Тестирование трекеров: botsort, bytetrack, deepsort\n",
        "Сначала посмотрим как работает базовое решение на 10 кадрах."
      ],
      "metadata": {
        "id": "NeT75roUOrwu"
      }
    },
    {
      "cell_type": "code",
      "source": [
        "# проходимся циклом по видео, для захвата 10 фреймов и отрисовки работы детектора и трекера\n",
        "\n",
        "cap = cv2.VideoCapture(video_path) # инициализируем объект для захвата видео\n",
        "#model = YOLO(\"/content/yolov10x_v2_4_best.pt\")   # загружаем модель\n",
        "model = YOLO(\"/kaggle/input/tracking-of-bottles/Models/Models/ultralytics/yolov10x_v2_4_best.pt\")   # загружаем модель\n",
        "\n",
        "\n",
        "track_history = defaultdict(lambda: [])\n",
        "track_data = np.zeros((1,6))\n",
        "\n",
        "for i in range(1, 10):\n",
        "    cap.set(cv2.CAP_PROP_POS_FRAMES, i-1)\n",
        "\n",
        "    success, frame = cap.read()\n",
        "    if success:\n",
        "        results = model.track(frame, iou=IOU, persist=True, conf=CONFIDENCE_THRESHOLD, verbose=False)\n",
        "        boxes = results[0].boxes.xywh.cpu()\n",
        "        track_ids = results[0].boxes.id.int().cpu().tolist()\n",
        "        confidences = results[0].boxes.conf.cpu().tolist()\n",
        "        annotated_frame = results[0].plot()\n",
        "\n",
        "        #  Отрисовка ббоксов\n",
        "        for box, track_id in zip(boxes, track_ids):\n",
        "            x, y, w, h = box\n",
        "            track = track_history[track_id]\n",
        "            track.append((float(x), float(y)))\n",
        "            if len(track) > 30:\n",
        "               track.pop(0)\n",
        "\n",
        "            # Отрисовка линий трекера\n",
        "            points = np.hstack(track).astype(np.int32).reshape((-1, 1, 2))\n",
        "            track_path = cv2.polylines(annotated_frame, [points],\n",
        "                                       isClosed=False, color=(230, 230, 230),\n",
        "                                       thickness=10)\n",
        "\n",
        "            track_data_new = np.hstack([i, track_id, (x-w/2), (y-h/2), w, h])\n",
        "            track_data = np.vstack([track_data, track_data_new])\n",
        "        cv2_imshow(annotated_frame)\n",
        "        plt.imshow(annotated_frame)\n",
        "        plt.axis('off')\n",
        "        plt.show()\n",
        "\n",
        "        if cv2.waitKey(1) & 0xFF == ord(\"q\"):\n",
        "           break\n",
        "    else:\n",
        "        break\n",
        "cap.release()\n",
        "cv2.destroyAllWindows()\n",
        "\n",
        "track_data = np.delete(track_data, 0,0)"
      ],
      "metadata": {
        "colab": {
          "base_uri": "https://localhost:8080/",
          "height": 1000
        },
        "id": "ESa-ul6_OyJF",
        "outputId": "07e9c18a-ca32-4a71-b3bb-df78815924a2",
        "execution": {
          "iopub.status.busy": "2024-09-02T18:01:27.809209Z",
          "iopub.execute_input": "2024-09-02T18:01:27.810124Z",
          "iopub.status.idle": "2024-09-02T18:01:31.903918Z",
          "shell.execute_reply.started": "2024-09-02T18:01:27.810082Z",
          "shell.execute_reply": "2024-09-02T18:01:31.903091Z"
        },
        "trusted": true
      },
      "execution_count": null,
      "outputs": []
    },
    {
      "cell_type": "markdown",
      "source": [
        "**Тестируем работу различных трекеров на 100 фреймах**"
      ],
      "metadata": {
        "id": "ROd_pTI8SGr0"
      }
    },
    {
      "cell_type": "markdown",
      "source": [
        "## BaseLine - трекер botsort"
      ],
      "metadata": {
        "id": "QXp9x_3vQ-Ul"
      }
    },
    {
      "cell_type": "code",
      "source": [
        "# проходимся циклом по видео, для захвата 100 фреймов и расчета первичной метрики для трекера botsort\n",
        "\n",
        "cap = cv2.VideoCapture(video_path) # инициализируем объект для захвата видео\n",
        "#model = YOLO(\"/content/yolov10x_v2_4_best.pt\")   # загружаем модель\n",
        "model = YOLO(\"/kaggle/input/tracking-of-bottles/Models/Models/ultralytics/yolov10x_v2_4_best.pt\")   # загружаем модель\n",
        "tracker=\"botsort.yaml\"    # загружаем трекер\n",
        "\n",
        "track_history = defaultdict(lambda: [])\n",
        "track_data = np.zeros((1,6))\n",
        "\n",
        "for i in tqdm(range(1, 101)):\n",
        "    cap.set(cv2.CAP_PROP_POS_FRAMES, i-1)\n",
        "\n",
        "    success, frame = cap.read()\n",
        "    if success:\n",
        "        results = model.track(frame, persist=True, conf=0.7, iou=0.45, verbose=False)\n",
        "        boxes = results[0].boxes.xywh.cpu()\n",
        "        track_ids = results[0].boxes.id.int().cpu().tolist()\n",
        "        confidences = results[0].boxes.conf.cpu().tolist()\n",
        "        annotated_frame = results[0].plot()\n",
        "\n",
        "        # Plot the tracks\n",
        "        for box, track_id in zip(boxes, track_ids):\n",
        "            x, y, w, h = box\n",
        "            track = track_history[track_id]\n",
        "            track.append((float(x), float(y)))\n",
        "            if len(track) > 30:\n",
        "               track.pop(0)\n",
        "\n",
        "            # Draw the tracking lines\n",
        "            points = np.hstack(track).astype(np.int32).reshape((-1, 1, 2))\n",
        "            track_path = cv2.polylines(annotated_frame, [points],\n",
        "                                       isClosed=False, color=(230, 230, 230),\n",
        "                                       thickness=10)\n",
        "\n",
        "            track_data_new = np.hstack([i, track_id, (x-w/2), (y-h/2), w, h])\n",
        "            track_data = np.vstack([track_data, track_data_new])\n",
        "        writer_yolo.write(annotated_frame)\n",
        "        writer_yolo.write(track_path)\n",
        "        cv2_imshow(annotated_frame)\n",
        "\n",
        "        if cv2.waitKey(1) & 0xFF == ord(\"q\"):\n",
        "           break\n",
        "    else:\n",
        "        break\n",
        "cap.release()\n",
        "writer_yolo.release()\n",
        "cv2.destroyAllWindows()\n",
        "\n",
        "track_data = np.delete(track_data, 0,0)"
      ],
      "metadata": {
        "colab": {
          "base_uri": "https://localhost:8080/",
          "height": 1000,
          "referenced_widgets": [
            "278a3bcbfc1d4e838eb5a1e8b4a2f8da",
            "31dbd39476234e7b8cfb27c3223775e3",
            "7269ea2f8ffc4ed3a854e25c4ca3750e",
            "414f56537bfd4b1999947ac1b657927d",
            "64caceae90e14d789ccf9796d0bf0d10",
            "de8f4cc9ec844c5f908530ef3a06f9bf",
            "172df649fdbd4bd99edd121a3e82bdd4",
            "12ba668cf6964effb5ebca3447e4c662",
            "ace3335180394cd896fd8583774c3776",
            "0ada95f0232b47c99f863aea3f134899",
            "07f9bd038ee0488e815d8fcded4a51d9"
          ]
        },
        "id": "EqyuZ9mtO5X-",
        "outputId": "e748e73b-9fc6-4027-83ff-7d8fd7964423",
        "execution": {
          "iopub.status.busy": "2024-09-02T18:02:17.246696Z",
          "iopub.execute_input": "2024-09-02T18:02:17.247460Z",
          "iopub.status.idle": "2024-09-02T18:02:40.287478Z",
          "shell.execute_reply.started": "2024-09-02T18:02:17.247409Z",
          "shell.execute_reply": "2024-09-02T18:02:40.286694Z"
        },
        "trusted": true
      },
      "execution_count": null,
      "outputs": []
    },
    {
      "cell_type": "code",
      "source": [
        "motMetricsEnhancedCalculator('/kaggle/input/tracking-of-bottles/mot_dataset/gt/gt.txt',\n",
        "                              track_data, min_fr=1, max_fr=101)"
      ],
      "metadata": {
        "execution": {
          "iopub.status.busy": "2024-09-02T18:02:53.622452Z",
          "iopub.execute_input": "2024-09-02T18:02:53.622853Z",
          "iopub.status.idle": "2024-09-02T18:02:53.796972Z",
          "shell.execute_reply.started": "2024-09-02T18:02:53.622813Z",
          "shell.execute_reply": "2024-09-02T18:02:53.795996Z"
        },
        "trusted": true,
        "id": "JiF1DmWVFEV6",
        "outputId": "fa890645-90e7-4cdc-d136-2a3b793534cd"
      },
      "execution_count": null,
      "outputs": [
        {
          "execution_count": 22,
          "output_type": "execute_result",
          "data": {
            "text/plain": "     num_frames    recall  precision  num_objects  num_switches      mota  \\\nacc         100  0.921241        1.0          419             2  0.916468   \n\n         motp  \nacc  0.088559  ",
            "text/html": "<div>\n<style scoped>\n    .dataframe tbody tr th:only-of-type {\n        vertical-align: middle;\n    }\n\n    .dataframe tbody tr th {\n        vertical-align: top;\n    }\n\n    .dataframe thead th {\n        text-align: right;\n    }\n</style>\n<table border=\"1\" class=\"dataframe\">\n  <thead>\n    <tr style=\"text-align: right;\">\n      <th></th>\n      <th>num_frames</th>\n      <th>recall</th>\n      <th>precision</th>\n      <th>num_objects</th>\n      <th>num_switches</th>\n      <th>mota</th>\n      <th>motp</th>\n    </tr>\n  </thead>\n  <tbody>\n    <tr>\n      <th>acc</th>\n      <td>100</td>\n      <td>0.921241</td>\n      <td>1.0</td>\n      <td>419</td>\n      <td>2</td>\n      <td>0.916468</td>\n      <td>0.088559</td>\n    </tr>\n  </tbody>\n</table>\n</div>"
          },
          "metadata": {}
        }
      ]
    },
    {
      "cell_type": "markdown",
      "source": [
        "## BaseLine - трекер bytetrack"
      ],
      "metadata": {
        "id": "qyku6ufokkPg"
      }
    },
    {
      "cell_type": "code",
      "source": [
        "# проходимся циклом по видео, для захвата 100 фреймов и расчета первичной метрики bytetrack\n",
        "\n",
        "cap = cv2.VideoCapture(video_path) # инициализируем объект для захвата видео\n",
        "#model = YOLO(\"/content/yolov10x_v2_4_best.pt\")   # загружаем модель\n",
        "model = YOLO(\"/kaggle/input/tracking-of-bottles/Models/Models/ultralytics/yolov10x_v2_4_best.pt\")   # загружаем модель\n",
        "tracker=\"bytetrack.yaml\"    # загружаем трекер\n",
        "\n",
        "track_history = defaultdict(lambda: [])\n",
        "track_data = np.zeros((1,6))\n",
        "\n",
        "for i in tqdm(range(1, 101)):\n",
        "    cap.set(cv2.CAP_PROP_POS_FRAMES, i-1)\n",
        "\n",
        "    success, frame = cap.read()\n",
        "    if success:\n",
        "        results = model.track(frame, tracker=tracker, persist=True, conf=0.7, iou=0.45, verbose=False)\n",
        "        boxes = results[0].boxes.xywh.cpu()\n",
        "        track_ids = results[0].boxes.id.int().cpu().tolist()\n",
        "        confidences = results[0].boxes.conf.cpu().tolist()\n",
        "        annotated_frame = results[0].plot()\n",
        "\n",
        "        # Plot the tracks\n",
        "        for box, track_id in zip(boxes, track_ids):\n",
        "            x, y, w, h = box\n",
        "            track = track_history[track_id]\n",
        "            track.append((float(x), float(y)))\n",
        "            if len(track) > 30:\n",
        "               track.pop(0)\n",
        "\n",
        "            # Draw the tracking lines\n",
        "            points = np.hstack(track).astype(np.int32).reshape((-1, 1, 2))\n",
        "            track_path = cv2.polylines(annotated_frame, [points],\n",
        "                                       isClosed=False, color=(230, 230, 230),\n",
        "                                       thickness=10)\n",
        "\n",
        "            track_data_new = np.hstack([i, track_id, (x-w/2), (y-h/2), w, h])\n",
        "            track_data = np.vstack([track_data, track_data_new])\n",
        "        writer_yolo.write(annotated_frame)\n",
        "        writer_yolo.write(track_path)\n",
        "        cv2_imshow(annotated_frame)\n",
        "        plt.imshow(annotated_frame)\n",
        "        plt.axis('off')\n",
        "        plt.show()\n",
        "\n",
        "        if cv2.waitKey(1) & 0xFF == ord(\"q\"):\n",
        "           break\n",
        "    else:\n",
        "        break\n",
        "cap.release()\n",
        "writer_yolo.release()\n",
        "cv2.destroyAllWindows()\n",
        "\n",
        "track_data = np.delete(track_data, 0,0)"
      ],
      "metadata": {
        "colab": {
          "base_uri": "https://localhost:8080/",
          "height": 1000,
          "referenced_widgets": [
            "81c710f2b8354347b223896655fe00b5",
            "f34a06002c7046c09bada38c15d7d5cb",
            "af09befa92b141caa17a4041d1da9a1a",
            "e5a01adb56f348648fc70e9183529da5",
            "c4e03ae80dae481ba0693f917cbdc9c1",
            "b30c8ac3936c42b18903da42232966bb",
            "08e4dbb1f1f4438280851799b0b27ab5",
            "f0b449c62f5f44f28486122f99582af3",
            "4389f403dcb54201a16294aa9088f8eb",
            "533a5790e9e64afd9f6e028cc609bde5",
            "940216e3f6804397a9934b76ce393b55"
          ]
        },
        "id": "0Rbpp9eMkw2H",
        "outputId": "acef7aff-222c-47d3-9b95-84bbef5c5644",
        "execution": {
          "iopub.status.busy": "2024-09-02T18:03:17.305510Z",
          "iopub.execute_input": "2024-09-02T18:03:17.306479Z",
          "iopub.status.idle": "2024-09-02T18:03:56.784021Z",
          "shell.execute_reply.started": "2024-09-02T18:03:17.306427Z",
          "shell.execute_reply": "2024-09-02T18:03:56.782789Z"
        },
        "trusted": true
      },
      "execution_count": null,
      "outputs": []
    },
    {
      "cell_type": "code",
      "source": [
        "# Расчитываем метрику для bytetrack\n",
        "motMetricsEnhancedCalculator('/kaggle/input/tracking-of-bottles/mot_dataset/gt/gt.txt', track_data)"
      ],
      "metadata": {
        "id": "5NFMPSAtkxGi",
        "execution": {
          "iopub.status.busy": "2024-09-02T18:03:56.963774Z",
          "iopub.execute_input": "2024-09-02T18:03:56.964084Z",
          "iopub.status.idle": "2024-09-02T18:03:57.126862Z",
          "shell.execute_reply.started": "2024-09-02T18:03:56.964051Z",
          "shell.execute_reply": "2024-09-02T18:03:57.125826Z"
        },
        "trusted": true,
        "outputId": "56b74084-2b0a-42c1-cf63-0bad14cf3b38"
      },
      "execution_count": null,
      "outputs": [
        {
          "execution_count": 25,
          "output_type": "execute_result",
          "data": {
            "text/plain": "     num_frames    recall  precision  num_objects  num_switches      mota  \\\nacc         100  0.701671   0.763636          419             2  0.479714   \n\n         motp  \nacc  0.258718  ",
            "text/html": "<div>\n<style scoped>\n    .dataframe tbody tr th:only-of-type {\n        vertical-align: middle;\n    }\n\n    .dataframe tbody tr th {\n        vertical-align: top;\n    }\n\n    .dataframe thead th {\n        text-align: right;\n    }\n</style>\n<table border=\"1\" class=\"dataframe\">\n  <thead>\n    <tr style=\"text-align: right;\">\n      <th></th>\n      <th>num_frames</th>\n      <th>recall</th>\n      <th>precision</th>\n      <th>num_objects</th>\n      <th>num_switches</th>\n      <th>mota</th>\n      <th>motp</th>\n    </tr>\n  </thead>\n  <tbody>\n    <tr>\n      <th>acc</th>\n      <td>100</td>\n      <td>0.701671</td>\n      <td>0.763636</td>\n      <td>419</td>\n      <td>2</td>\n      <td>0.479714</td>\n      <td>0.258718</td>\n    </tr>\n  </tbody>\n</table>\n</div>"
          },
          "metadata": {}
        }
      ]
    },
    {
      "cell_type": "markdown",
      "source": [
        "## Трекер DeepSORT"
      ],
      "metadata": {
        "id": "eXH1kEhZ75XZ"
      }
    },
    {
      "cell_type": "markdown",
      "source": [
        "**Произведем отрисовку ббоксов на 10 фреймах.**"
      ],
      "metadata": {
        "id": "lPVMIKGm87_m"
      }
    },
    {
      "cell_type": "code",
      "source": [
        "# инициализируем объект для захвата видео\n",
        "cap = cv2.VideoCapture(video_path)  # видео основное\n",
        "\n",
        "# инициализируем объект для записи видео\n",
        "writer_deepsort = create_video_writer(cap, \"output_deepsort.mp4\")\n",
        "\n",
        "# загружаем предобученную модель YOLOv8n\n",
        "#model = YOLO(\"/content/yolov10x_v2_4_best.pt\")\n",
        "model = YOLO(\"/kaggle/input/tracking-of-bottles/Models/Models/ultralytics/yolov10x_v2_4_best.pt\")"
      ],
      "metadata": {
        "id": "HOuvnA7d8apv",
        "execution": {
          "iopub.status.busy": "2024-09-02T18:05:31.897792Z",
          "iopub.execute_input": "2024-09-02T18:05:31.898157Z",
          "iopub.status.idle": "2024-09-02T18:05:32.370484Z",
          "shell.execute_reply.started": "2024-09-02T18:05:31.898123Z",
          "shell.execute_reply": "2024-09-02T18:05:32.369709Z"
        },
        "trusted": true,
        "outputId": "2f913a34-0000-4d10-8ff5-c29f25f9c4e4"
      },
      "execution_count": null,
      "outputs": [
        {
          "name": "stderr",
          "text": "OpenCV: FFMPEG: tag 0x5634504d/'MP4V' is not supported with codec id 12 and format 'mp4 / MP4 (MPEG-4 Part 14)'\nOpenCV: FFMPEG: fallback to use tag 0x7634706d/'mp4v'\n",
          "output_type": "stream"
        }
      ]
    },
    {
      "cell_type": "code",
      "source": [
        "# создаем массив для записи в него данных для расчета метрики\n",
        "track_data = np.zeros((1, 6))\n",
        "track_history = defaultdict(lambda: [])\n",
        "\n",
        "tracker = DeepSort(max_age=MAX_AGE, max_iou_distance=0.8)\n",
        "\n",
        "# # инициализируем цветовую карту\n",
        "cmap = plt.get_cmap('tab20b')\n",
        "colors = [cmap(i)[:3] for i in np.linspace(0, 1, 20)]\n",
        "\n",
        "# запускаем цикл по нужному количеству кадров видео\n",
        "for i in tqdm(range(1, 11)):\n",
        "\n",
        "    cap.set(cv2.CAP_PROP_POS_FRAMES, i-1)\n",
        "    start = datetime.datetime.now()\n",
        "\n",
        "    ret, frame = cap.read()\n",
        "\n",
        "    if not ret:\n",
        "        break\n",
        "\n",
        "    # запускаем модель YOLO на фрейме\n",
        "    detections = model(frame, verbose=False)[0]\n",
        "\n",
        "    # создаем список для записи результатов детекции\n",
        "    results = []\n",
        "\n",
        "    # проходим в цикле по каждому результату детекции\n",
        "    for data in detections.boxes.data.tolist():\n",
        "        # получаем вероятность существования данного объекта\n",
        "        confidence = data[4]\n",
        "\n",
        "        if float(confidence) < CONFIDENCE_THRESHOLD:\n",
        "            continue\n",
        "\n",
        "        # если вероятность выше, чем граничная получаем координаты bbox и class_id\n",
        "        xmin, ymin, xmax, ymax = int(data[0]), int(data[1]), int(data[2]), int(data[3])\n",
        "        class_id = int(data[5])\n",
        "\n",
        "        results.append([[xmin, ymin, xmax - xmin, ymax - ymin], confidence, class_id])\n",
        "\n",
        "    # обновляем данные трекера\n",
        "    tracks = tracker.update_tracks(results, frame=frame)\n",
        "\n",
        "    # запускаем цикл по трекам\n",
        "    for track in tracks:\n",
        "\n",
        "        # получаем track id\n",
        "        track_id = track.track_id\n",
        "        # получаем координаты bbox лево-верх и право-низ\n",
        "        tlbr = track.to_tlbr(orig=True)\n",
        "\n",
        "        score = track.det_conf\n",
        "        class_id = track.det_class\n",
        "\n",
        "        if score is None or score < CONFIDENCE_THRESHOLD:\n",
        "             continue\n",
        "\n",
        "        xmin, ymin, xmax, ymax = int(tlbr[0]), int(tlbr[1]), int(tlbr[2]), int(tlbr[3])\n",
        "\n",
        "        track_data_new = np.hstack([i, track_id, xmin, ymin, (xmax-xmin), (ymax-ymin)])\n",
        "        track_data = np.vstack([track_data, track_data_new])\n",
        "\n",
        "        # рисуем bbox и добавляем подписи\n",
        "        color = colors[int(track_id) % len(colors)]\n",
        "        color = [i * 255 for i in color]\n",
        "        cv2.rectangle(frame, (xmin, ymin), (xmax, ymax), color, 3)\n",
        "        cv2.rectangle(frame, (xmin, ymin-30), (xmax, ymin), color, -1)\n",
        "        cv2.putText(frame,\n",
        "                    \"track_id: \" + str(track_id) + \"-\" + \"class \" + str(class_id),\n",
        "                     (xmin, ymin-10), 0, 0.75, (255,255,255), 2)\n",
        "\n",
        "        # находим координаты центра bbox\n",
        "        cx, cy = int((xmin+xmax)/2), int((ymin+ymax)/2)\n",
        "\n",
        "        track_info = track_history[track]\n",
        "        track_info.append((cx, cy))\n",
        "        if len(track_info) > 30:\n",
        "            track_info.pop(0)\n",
        "\n",
        "        # получаем линию трека\n",
        "        points = np.hstack(track_info).astype(np.int32).reshape((-1, 1, 2))\n",
        "        track_path = cv2.polylines(frame, [points], isClosed=False, color=(230, 230, 230), thickness=10)\n",
        "\n",
        "    # завершение фиксации времени\n",
        "    end = datetime.datetime.now()\n",
        "    # вывод времени обработки одного фрейма\n",
        "    # print(f\"Time to process 1 frame: {(end - start).total_seconds() * 1000:.0f} milliseconds\")\n",
        "    # расчет количества фреймов в секунду и вывод результата\n",
        "    fps = f\"FPS: {1 / (end - start).total_seconds():.2f}\"\n",
        "    cv2.putText(frame, fps, (50, 50),\n",
        "                cv2.FONT_HERSHEY_SIMPLEX, 2, (0, 0, 255), 8)\n",
        "\n",
        "    #cv2_imshow(frame)\n",
        "    plt.imshow(frame)\n",
        "    plt.axis('off')\n",
        "    plt.show()\n",
        "\n",
        "    writer_deepsort.write(frame)\n",
        "    writer_deepsort.write(track_path)\n",
        "    #if cv2.waitKey(1) == ord(\"q\"):\n",
        "    #    break\n",
        "\n",
        "cap.release()\n",
        "writer_deepsort.release()\n",
        "cv2.destroyAllWindows()\n",
        "\n",
        "# удаляем строчку с нулями\n",
        "track_data = np.delete(track_data, 0,0)"
      ],
      "metadata": {
        "colab": {
          "base_uri": "https://localhost:8080/",
          "height": 1000,
          "referenced_widgets": [
            "c35dee179cbb4fe2b7e2171090c2410e",
            "166e412410fd4d7086ecd4aabba34392",
            "7d1a934f64da4ce58ff4a454c84dd160",
            "b3836cfe6b0f4130ad284573ad77edde",
            "c3a698a2906343bc9ea90f8d05eabbc2",
            "3d0e8aea7c40489e8bda7cd892cf3ce5",
            "cbd3344b9bce432fbc59ffc2da7b7e76",
            "204cfa9008a940a189e614200794b2a9",
            "3e3055f5ade34e43bb37d7decc8bef1b",
            "aab1ffe7ba37443da6d497534fb8ac8e",
            "0c50da12e9f8432ea12a8b396e938a65"
          ]
        },
        "id": "nXF4rHNRpZby",
        "outputId": "0b3594d8-80c3-440c-92f2-52c643f6b1e1",
        "execution": {
          "iopub.status.busy": "2024-09-02T18:05:40.912339Z",
          "iopub.execute_input": "2024-09-02T18:05:40.913310Z",
          "iopub.status.idle": "2024-09-02T18:06:05.170588Z",
          "shell.execute_reply.started": "2024-09-02T18:05:40.913267Z",
          "shell.execute_reply": "2024-09-02T18:06:05.169495Z"
        },
        "trusted": true
      },
      "execution_count": null,
      "outputs": []
    },
    {
      "cell_type": "code",
      "source": [
        "# расчет метрик для трекера DeepSORT на 10 фреймах\n",
        "motMetricsEnhancedCalculator('/kaggle/input/tracking-of-bottles/mot_dataset/gt/gt.txt', track_data.astype('int'),\n",
        "                             min_fr=1, max_fr=11)"
      ],
      "metadata": {
        "colab": {
          "base_uri": "https://localhost:8080/"
        },
        "id": "75Pxa8qI7_7K",
        "outputId": "95e9c5f2-c701-438b-b2ab-c534a1da7663",
        "execution": {
          "iopub.status.busy": "2024-09-02T18:06:05.172534Z",
          "iopub.execute_input": "2024-09-02T18:06:05.173344Z",
          "iopub.status.idle": "2024-09-02T18:06:05.261150Z",
          "shell.execute_reply.started": "2024-09-02T18:06:05.173296Z",
          "shell.execute_reply": "2024-09-02T18:06:05.260113Z"
        },
        "trusted": true
      },
      "execution_count": null,
      "outputs": [
        {
          "execution_count": 29,
          "output_type": "execute_result",
          "data": {
            "text/plain": "     num_frames  recall  precision  num_objects  num_switches     mota  \\\nacc          10     1.0        1.0           32             1  0.96875   \n\n         motp  \nacc  0.068639  ",
            "text/html": "<div>\n<style scoped>\n    .dataframe tbody tr th:only-of-type {\n        vertical-align: middle;\n    }\n\n    .dataframe tbody tr th {\n        vertical-align: top;\n    }\n\n    .dataframe thead th {\n        text-align: right;\n    }\n</style>\n<table border=\"1\" class=\"dataframe\">\n  <thead>\n    <tr style=\"text-align: right;\">\n      <th></th>\n      <th>num_frames</th>\n      <th>recall</th>\n      <th>precision</th>\n      <th>num_objects</th>\n      <th>num_switches</th>\n      <th>mota</th>\n      <th>motp</th>\n    </tr>\n  </thead>\n  <tbody>\n    <tr>\n      <th>acc</th>\n      <td>10</td>\n      <td>1.0</td>\n      <td>1.0</td>\n      <td>32</td>\n      <td>1</td>\n      <td>0.96875</td>\n      <td>0.068639</td>\n    </tr>\n  </tbody>\n</table>\n</div>"
          },
          "metadata": {}
        }
      ]
    },
    {
      "cell_type": "markdown",
      "source": [
        "**Произведем отрисовку ббоксов на 100 фреймах и расчет метрики**"
      ],
      "metadata": {
        "id": "sDOrN5hq9Rjv"
      }
    },
    {
      "cell_type": "code",
      "source": [
        "# инициализируем объект для захвата видео\n",
        "cap = cv2.VideoCapture(video_path)  # видео основное\n",
        "\n",
        "# инициализируем объект для записи видео\n",
        "writer_deepsort = create_video_writer(cap, \"output_deepsort.mp4\")\n",
        "\n",
        "# загружаем предобученную модель YOLOv8n\n",
        "#model = YOLO(\"/content/yolov10x_v2_4_best.pt\")\n",
        "model = YOLO(\"/kaggle/input/tracking-of-bottles/Models/Models/ultralytics/yolov10x_v2_4_best.pt\")"
      ],
      "metadata": {
        "id": "NRWscVeR8ACz",
        "execution": {
          "iopub.status.busy": "2024-09-02T18:06:21.383224Z",
          "iopub.execute_input": "2024-09-02T18:06:21.383977Z",
          "iopub.status.idle": "2024-09-02T18:06:21.823205Z",
          "shell.execute_reply.started": "2024-09-02T18:06:21.383935Z",
          "shell.execute_reply": "2024-09-02T18:06:21.822369Z"
        },
        "trusted": true,
        "outputId": "926b3214-78c7-4ae8-a4b9-457e5d1e6c3d"
      },
      "execution_count": null,
      "outputs": [
        {
          "name": "stderr",
          "text": "OpenCV: FFMPEG: tag 0x5634504d/'MP4V' is not supported with codec id 12 and format 'mp4 / MP4 (MPEG-4 Part 14)'\nOpenCV: FFMPEG: fallback to use tag 0x7634706d/'mp4v'\n",
          "output_type": "stream"
        }
      ]
    },
    {
      "cell_type": "code",
      "source": [
        "# создаем массив для записи в него данных для расчета метрики\n",
        "track_data = np.zeros((1, 6))\n",
        "track_history = defaultdict(lambda: [])\n",
        "\n",
        "tracker = DeepSort(max_age=MAX_AGE, max_iou_distance=0.8)\n",
        "\n",
        "# # инициализируем цветовую карту\n",
        "cmap = plt.get_cmap('tab20b')\n",
        "colors = [cmap(i)[:3] for i in np.linspace(0, 1, 20)]\n",
        "\n",
        "# запускаем цикл по нужному количеству кадров видео\n",
        "for i in tqdm(range(1, 101)):\n",
        "\n",
        "    cap.set(cv2.CAP_PROP_POS_FRAMES, i-1)\n",
        "    start = datetime.datetime.now()\n",
        "\n",
        "    ret, frame = cap.read()\n",
        "\n",
        "    if not ret:\n",
        "        break\n",
        "\n",
        "    # запускаем модель YOLO на фрейме\n",
        "    detections = model(frame, verbose=False)[0]\n",
        "\n",
        "    # создаем список для записи результатов детекции\n",
        "    results = []\n",
        "\n",
        "    # проходим в цикле по каждому результату детекции\n",
        "    for data in detections.boxes.data.tolist():\n",
        "        # получаем вероятность существования данного объекта\n",
        "        confidence = data[4]\n",
        "\n",
        "        if float(confidence) < CONFIDENCE_THRESHOLD:\n",
        "            continue\n",
        "\n",
        "        # если вероятность выше, чем граничная получаем координаты bbox и class_id\n",
        "        xmin, ymin, xmax, ymax = int(data[0]), int(data[1]), int(data[2]), int(data[3])\n",
        "        class_id = int(data[5])\n",
        "\n",
        "        results.append([[xmin, ymin, xmax - xmin, ymax - ymin], confidence, class_id])\n",
        "\n",
        "    # обновляем данные трекера\n",
        "    tracks = tracker.update_tracks(results, frame=frame)\n",
        "\n",
        "    # запускаем цикл по трекам\n",
        "    for track in tracks:\n",
        "\n",
        "        # получаем track id\n",
        "        track_id = track.track_id\n",
        "        # получаем координаты bbox лево-верх и право-низ\n",
        "        tlbr = track.to_tlbr(orig=True)\n",
        "\n",
        "        score = track.det_conf\n",
        "        class_id = track.det_class\n",
        "\n",
        "        if score is None or score < CONFIDENCE_THRESHOLD:\n",
        "             continue\n",
        "\n",
        "        xmin, ymin, xmax, ymax = int(tlbr[0]), int(tlbr[1]), int(tlbr[2]), int(tlbr[3])\n",
        "\n",
        "        track_data_new = np.hstack([i, track_id, xmin, ymin, (xmax-xmin), (ymax-ymin)])\n",
        "        track_data = np.vstack([track_data, track_data_new])\n",
        "\n",
        "        # рисуем bbox и добавляем подписи\n",
        "        color = colors[int(track_id) % len(colors)]\n",
        "        color = [i * 255 for i in color]\n",
        "        cv2.rectangle(frame, (xmin, ymin), (xmax, ymax), color, 3)\n",
        "        cv2.rectangle(frame, (xmin, ymin-30), (xmax, ymin), color, -1)\n",
        "        cv2.putText(frame,\n",
        "                    \"track_id: \" + str(track_id) + \"-\" + \"class \" + str(class_id),\n",
        "                     (xmin, ymin-10), 0, 0.75, (255,255,255), 2)\n",
        "\n",
        "        # находим координаты центра bbox\n",
        "        cx, cy = int((xmin+xmax)/2), int((ymin+ymax)/2)\n",
        "\n",
        "        track_info = track_history[track]\n",
        "        track_info.append((cx, cy))\n",
        "        if len(track_info) > 30:\n",
        "            track_info.pop(0)\n",
        "\n",
        "        # получаем линию трека\n",
        "        points = np.hstack(track_info).astype(np.int32).reshape((-1, 1, 2))\n",
        "        track_path = cv2.polylines(frame, [points], isClosed=False, color=(230, 230, 230), thickness=10)\n",
        "\n",
        "    # завершение фиксации времени\n",
        "    end = datetime.datetime.now()\n",
        "    # вывод времени обработки одного фрейма\n",
        "    # print(f\"Time to process 1 frame: {(end - start).total_seconds() * 1000:.0f} milliseconds\")\n",
        "    # расчет количества фреймов в секунду и вывод результата\n",
        "    fps = f\"FPS: {1 / (end - start).total_seconds():.2f}\"\n",
        "    cv2.putText(frame, fps, (50, 50),\n",
        "                cv2.FONT_HERSHEY_SIMPLEX, 2, (0, 0, 255), 8)\n",
        "\n",
        "    #cv2_imshow(frame)\n",
        "    plt.imshow(frame)\n",
        "    plt.axis('off')\n",
        "    plt.show()\n",
        "\n",
        "    writer_deepsort.write(frame)\n",
        "    writer_deepsort.write(track_path)\n",
        "    #if cv2.waitKey(1) == ord(\"q\"):\n",
        "    #    break\n",
        "\n",
        "cap.release()\n",
        "writer_deepsort.release()\n",
        "cv2.destroyAllWindows()\n",
        "\n",
        "# удаляем строчку с нулями\n",
        "track_data = np.delete(track_data, 0,0)"
      ],
      "metadata": {
        "colab": {
          "base_uri": "https://localhost:8080/",
          "height": 1000,
          "referenced_widgets": [
            "fc23bea1d0044d079b484b73cf7469d4",
            "ad8e0ee881be4716a42bb12a8d45de3c",
            "1693c67ea41e4f748397c9faca3f2235",
            "346bd06f42634d23ab3489334cb86cf9",
            "838806b980ed4cc6a86dc15ffb46c3c2",
            "6afce3bc324e464aa4974a74b48c883d",
            "77d7cdb8b2bc40428b06df76252ae02f",
            "9ea25f11c9b14f36ab1ee7aa0c7f20f3",
            "c86cf10d43c04f9dab0fe6fe963e76c9",
            "fda3182fdc4942cea9e9091fd800dd68",
            "24fdbddefad94c0f945ef90e6a37b8a7"
          ]
        },
        "id": "lNa4e90c8AF2",
        "outputId": "afe50a10-ecbd-4ae6-c9c9-9b0cf2b8e9ff",
        "execution": {
          "iopub.status.busy": "2024-09-02T18:06:55.337132Z",
          "iopub.execute_input": "2024-09-02T18:06:55.337494Z",
          "iopub.status.idle": "2024-09-02T18:08:02.139661Z",
          "shell.execute_reply.started": "2024-09-02T18:06:55.337461Z",
          "shell.execute_reply": "2024-09-02T18:08:02.138699Z"
        },
        "trusted": true
      },
      "execution_count": null,
      "outputs": []
    },
    {
      "cell_type": "code",
      "source": [
        "# расчет метрик для трекера DeepSORT на 100 фреймах\n",
        "motMetricsEnhancedCalculator('/kaggle/input/tracking-of-bottles/mot_dataset/gt/gt.txt', track_data.astype(int))"
      ],
      "metadata": {
        "colab": {
          "base_uri": "https://localhost:8080/"
        },
        "id": "7LWuDU519axy",
        "outputId": "272dcbbd-1f48-4740-8b97-32d8fb64bfa7",
        "execution": {
          "iopub.status.busy": "2024-09-02T18:08:02.141769Z",
          "iopub.execute_input": "2024-09-02T18:08:02.142475Z",
          "iopub.status.idle": "2024-09-02T18:08:02.322631Z",
          "shell.execute_reply.started": "2024-09-02T18:08:02.142422Z",
          "shell.execute_reply": "2024-09-02T18:08:02.321714Z"
        },
        "trusted": true
      },
      "execution_count": null,
      "outputs": [
        {
          "execution_count": 32,
          "output_type": "execute_result",
          "data": {
            "text/plain": "     num_frames    recall  precision  num_objects  num_switches      mota  \\\nacc         100  0.983294   0.997579          419             6  0.966587   \n\n         motp  \nacc  0.055891  ",
            "text/html": "<div>\n<style scoped>\n    .dataframe tbody tr th:only-of-type {\n        vertical-align: middle;\n    }\n\n    .dataframe tbody tr th {\n        vertical-align: top;\n    }\n\n    .dataframe thead th {\n        text-align: right;\n    }\n</style>\n<table border=\"1\" class=\"dataframe\">\n  <thead>\n    <tr style=\"text-align: right;\">\n      <th></th>\n      <th>num_frames</th>\n      <th>recall</th>\n      <th>precision</th>\n      <th>num_objects</th>\n      <th>num_switches</th>\n      <th>mota</th>\n      <th>motp</th>\n    </tr>\n  </thead>\n  <tbody>\n    <tr>\n      <th>acc</th>\n      <td>100</td>\n      <td>0.983294</td>\n      <td>0.997579</td>\n      <td>419</td>\n      <td>6</td>\n      <td>0.966587</td>\n      <td>0.055891</td>\n    </tr>\n  </tbody>\n</table>\n</div>"
          },
          "metadata": {}
        }
      ]
    },
    {
      "cell_type": "markdown",
      "source": [
        "## Трекер SORT"
      ],
      "metadata": {
        "id": "7fXSRHfGIVT6"
      }
    },
    {
      "cell_type": "code",
      "source": [
        "class ObjectDetection:\n",
        "\n",
        "    def __init__(self, capture_index):\n",
        "        self.capture_index = capture_index\n",
        "        self.model = self.load_model()\n",
        "        self.CLASS_NAMES_DICT = self.model.model.names\n",
        "\n",
        "    def load_model(self):\n",
        "        model = YOLO('/kaggle/input/tracking-of-bottles/Models/Models/ultralytics/yolov10x_v2_4_best.pt')\n",
        "        model.fuse()\n",
        "        return model\n",
        "\n",
        "    def predict(self, frame):\n",
        "        results = self.model(frame, verbose=False)\n",
        "        return results\n",
        "\n",
        "    def get_results(self, results, fr):\n",
        "        detections = []\n",
        "        for result in results[0]:           # extract detections / берутся поочереди bbox'ы\n",
        "            xyxy = result.boxes.xyxy.cpu().numpy()\n",
        "            xywh = result.boxes.xywh.cpu().numpy()\n",
        "            conf = result.boxes.conf.cpu().numpy()\n",
        "            cls  = result.boxes.cls.cpu().numpy()\n",
        "\n",
        "            merged_detection = [fr, xywh[0][0], xywh[0][1], xywh[0][2], xywh[0][3],\n",
        "                                    xyxy[0][0], xyxy[0][1], xyxy[0][2], xyxy[0][3], conf[0], cls[0]]\n",
        "\n",
        "            detections.append(merged_detection)\n",
        "        return np.array(detections)\n",
        "\n",
        "    def draw_bounding_boxes_with_id(self, img, bboxes, ids):\n",
        "        for bbox, id_ in zip(bboxes, ids):\n",
        "            cv2.rectangle(img, (int(bbox[0]), int(bbox[1])), (int(bbox[2]), int(bbox[3])), (0,0,255), 2)\n",
        "            cv2.putText(img, \"ID: \"+str(id_), (int(bbox[0]), int(bbox[1]-10)), cv2.FONT_HERSHEY_SIMPLEX, 0.9, (0,255,0), 2)\n",
        "        return img\n",
        "\n",
        "    def __call__(self, max_age=100, min_hits=8, iou_threshold=0.5, fr_min=1, fr_max=11):\n",
        "        cap = cv2.VideoCapture(self.capture_index)\n",
        "        assert cap.isOpened()\n",
        "\n",
        "        # SORT\n",
        "        sort = Sort(max_age=max_age, min_hits=min_hits, iou_threshold=iou_threshold)\n",
        "\n",
        "        self.detections_for_mota = []\n",
        "\n",
        "        for i in tqdm(range(fr_min, fr_max)):          # номера фреймов для обработки из видео\n",
        "            cap.set(cv2.CAP_PROP_POS_FRAMES,i-1)\n",
        "\n",
        "            ret, frame = cap.read()   # только array (картинка)\n",
        "            assert ret\n",
        "\n",
        "            results = self.predict(frame)  # передаём array, получаем общую инфу о bbox'ах, классах и др. (без id трека)\n",
        "\n",
        "            # array; в строке по каждому bbox: фрейм/x_центр/y_центр/ширина/высота/лево/верх/право/низ/вероятность/класс\n",
        "            detections = self.get_results(results, i)\n",
        "\n",
        "            # SORT Tracking\n",
        "            if len(detections) == 0:           # если на кадре нет bbox'ов - пустой array\n",
        "                detections = np.empty((0,11))\n",
        "\n",
        "            # обновляются координаты bbox (уточнение от ф.Калмана и Венгерского алг.), 5-ое значение - присвоенный трек-id\n",
        "            res = sort.update(detections[:,5:10]) # подаём x_left, y_top, x_right, y_bottom, conf\n",
        "\n",
        "            boxes_track = res[:,:-1]            # обрезается правый столбец с треком, остаются только координаты bbox\n",
        "            boxes_ids = res[:,-1].astype(int)   # номера треков\n",
        "\n",
        "            #frame = self.draw_bounding_boxes_with_id(frame, boxes_track, boxes_ids)  # в Kaggle визуализация cv2 не работает\n",
        "            #cv2.imshow('tracking of plastic bottles', frame)\n",
        "\n",
        "\n",
        "            detections_for_mota_fr = np.hstack([np.array([i]*len(res)).reshape(-1,1),        # frame\n",
        "                                                res[:,[4,0,1]],                              # трек id, лево, верх\n",
        "                                                (res[:,2]-res[:,0]).reshape(-1,1),           # ширина\n",
        "                                                (res[:,3]-res[:,1]).reshape(-1,1)])          # высота\n",
        "\n",
        "            self.detections_for_mota.append(detections_for_mota_fr)\n",
        "\n",
        "\n",
        "            #if cv2.waitKey(1) & 0xFF == ord('q'):\n",
        "            #    break\n",
        "\n",
        "        self.detections_for_mota = np.vstack(self.detections_for_mota)\n",
        "\n",
        "        cap.release()\n",
        "        #cv2.destroyAllWindows()"
      ],
      "metadata": {
        "id": "XofL42ls9azu",
        "execution": {
          "iopub.status.busy": "2024-09-02T18:08:19.077862Z",
          "iopub.execute_input": "2024-09-02T18:08:19.078245Z",
          "iopub.status.idle": "2024-09-02T18:08:19.098990Z",
          "shell.execute_reply.started": "2024-09-02T18:08:19.078203Z",
          "shell.execute_reply": "2024-09-02T18:08:19.097903Z"
        },
        "trusted": true
      },
      "execution_count": null,
      "outputs": []
    },
    {
      "cell_type": "code",
      "source": [
        "detector = ObjectDetection(capture_index='/kaggle/input/tracking-of-bottles/Videos/Videos/31-03-2024-09%3A34%3A24.mp4')"
      ],
      "metadata": {
        "id": "24MQ5F24IUWf",
        "execution": {
          "iopub.status.busy": "2024-09-02T18:08:28.057087Z",
          "iopub.execute_input": "2024-09-02T18:08:28.057477Z",
          "iopub.status.idle": "2024-09-02T18:08:29.574566Z",
          "shell.execute_reply.started": "2024-09-02T18:08:28.057438Z",
          "shell.execute_reply": "2024-09-02T18:08:29.573632Z"
        },
        "trusted": true,
        "outputId": "b0923914-94d0-44bc-c415-76f31153c306"
      },
      "execution_count": null,
      "outputs": [
        {
          "name": "stdout",
          "text": "YOLOv10x summary (fused): 503 layers, 31,612,970 parameters, 0 gradients, 169.9 GFLOPs\n",
          "output_type": "stream"
        }
      ]
    },
    {
      "cell_type": "code",
      "source": [
        "%%time\n",
        "# получаем разметку с лучшими гиперпараметрами (подобраны перебором)\n",
        "detector(max_age=40, min_hits=1, iou_threshold=0.3, fr_min=1, fr_max=101)"
      ],
      "metadata": {
        "id": "VT1fnhvVIUZ3",
        "execution": {
          "iopub.status.busy": "2024-09-02T18:08:40.654907Z",
          "iopub.execute_input": "2024-09-02T18:08:40.655263Z",
          "iopub.status.idle": "2024-09-02T18:09:05.871928Z",
          "shell.execute_reply.started": "2024-09-02T18:08:40.655222Z",
          "shell.execute_reply": "2024-09-02T18:09:05.870607Z"
        },
        "trusted": true,
        "colab": {
          "referenced_widgets": [
            "4726718ea2bb458d8affb5ec84a1cffd"
          ]
        },
        "outputId": "c9881fda-86bf-4a47-d641-d83c193f2df8"
      },
      "execution_count": null,
      "outputs": [
        {
          "output_type": "display_data",
          "data": {
            "text/plain": "  0%|          | 0/100 [00:00<?, ?it/s]",
            "application/vnd.jupyter.widget-view+json": {
              "version_major": 2,
              "version_minor": 0,
              "model_id": "4726718ea2bb458d8affb5ec84a1cffd"
            }
          },
          "metadata": {}
        },
        {
          "name": "stdout",
          "text": "CPU times: user 59.4 s, sys: 17.6 s, total: 1min 16s\nWall time: 25.2 s\n",
          "output_type": "stream"
        }
      ]
    },
    {
      "cell_type": "code",
      "source": [
        "motMetricsEnhancedCalculator('/kaggle/input/tracking-of-bottles/mot_dataset/gt/gt.txt', detector.detections_for_mota)"
      ],
      "metadata": {
        "id": "bDEJLr-1IiZM",
        "execution": {
          "iopub.status.busy": "2024-09-02T18:09:29.995977Z",
          "iopub.execute_input": "2024-09-02T18:09:29.997228Z",
          "iopub.status.idle": "2024-09-02T18:09:30.177614Z",
          "shell.execute_reply.started": "2024-09-02T18:09:29.997174Z",
          "shell.execute_reply": "2024-09-02T18:09:30.176695Z"
        },
        "trusted": true,
        "outputId": "c58f934f-c05c-4f77-8695-c1dc079252a8"
      },
      "execution_count": null,
      "outputs": [
        {
          "execution_count": 36,
          "output_type": "execute_result",
          "data": {
            "text/plain": "     num_frames    recall  precision  num_objects  num_switches      mota  \\\nacc         100  0.906921   0.984456          419             8  0.873508   \n\n         motp  \nacc  0.146046  ",
            "text/html": "<div>\n<style scoped>\n    .dataframe tbody tr th:only-of-type {\n        vertical-align: middle;\n    }\n\n    .dataframe tbody tr th {\n        vertical-align: top;\n    }\n\n    .dataframe thead th {\n        text-align: right;\n    }\n</style>\n<table border=\"1\" class=\"dataframe\">\n  <thead>\n    <tr style=\"text-align: right;\">\n      <th></th>\n      <th>num_frames</th>\n      <th>recall</th>\n      <th>precision</th>\n      <th>num_objects</th>\n      <th>num_switches</th>\n      <th>mota</th>\n      <th>motp</th>\n    </tr>\n  </thead>\n  <tbody>\n    <tr>\n      <th>acc</th>\n      <td>100</td>\n      <td>0.906921</td>\n      <td>0.984456</td>\n      <td>419</td>\n      <td>8</td>\n      <td>0.873508</td>\n      <td>0.146046</td>\n    </tr>\n  </tbody>\n</table>\n</div>"
          },
          "metadata": {}
        }
      ]
    },
    {
      "cell_type": "code",
      "source": [],
      "metadata": {
        "id": "q-GaUoudIicH"
      },
      "execution_count": null,
      "outputs": []
    },
    {
      "cell_type": "markdown",
      "source": [
        "## Выбор трекера с наилучшим результатом\n"
      ],
      "metadata": {
        "id": "CweWChL2D86U"
      }
    },
    {
      "cell_type": "code",
      "source": [
        "index = ['botsort',\n",
        "         'bytetrack',\n",
        "         'deepsort',\n",
        "         'sort']\n",
        "data = {'MOTA_100f':[ 0.916468,\n",
        "                      0.479714,\n",
        "                      0.966587,\n",
        "                      0.873508]}\n",
        "\n",
        "\n",
        "scores_data = pd.DataFrame(data=data, index=index)\n",
        "scores_data"
      ],
      "metadata": {
        "colab": {
          "base_uri": "https://localhost:8080/",
          "height": 175
        },
        "id": "zxQpBXU68AMF",
        "outputId": "e096b1c8-386c-4d8e-a778-c0482e96fae2",
        "execution": {
          "iopub.status.busy": "2024-09-02T18:12:58.205586Z",
          "iopub.execute_input": "2024-09-02T18:12:58.206015Z",
          "iopub.status.idle": "2024-09-02T18:12:58.217670Z",
          "shell.execute_reply.started": "2024-09-02T18:12:58.205977Z",
          "shell.execute_reply": "2024-09-02T18:12:58.216691Z"
        },
        "trusted": true
      },
      "execution_count": null,
      "outputs": [
        {
          "execution_count": 37,
          "output_type": "execute_result",
          "data": {
            "text/plain": "           MOTA_100f\nbotsort     0.916468\nbytetrack   0.479714\ndeepsort    0.966587\nsort        0.873508",
            "text/html": "<div>\n<style scoped>\n    .dataframe tbody tr th:only-of-type {\n        vertical-align: middle;\n    }\n\n    .dataframe tbody tr th {\n        vertical-align: top;\n    }\n\n    .dataframe thead th {\n        text-align: right;\n    }\n</style>\n<table border=\"1\" class=\"dataframe\">\n  <thead>\n    <tr style=\"text-align: right;\">\n      <th></th>\n      <th>MOTA_100f</th>\n    </tr>\n  </thead>\n  <tbody>\n    <tr>\n      <th>botsort</th>\n      <td>0.916468</td>\n    </tr>\n    <tr>\n      <th>bytetrack</th>\n      <td>0.479714</td>\n    </tr>\n    <tr>\n      <th>deepsort</th>\n      <td>0.966587</td>\n    </tr>\n    <tr>\n      <th>sort</th>\n      <td>0.873508</td>\n    </tr>\n  </tbody>\n</table>\n</div>"
          },
          "metadata": {}
        }
      ]
    },
    {
      "cell_type": "markdown",
      "source": [
        "**Наилучший результат показала модель deepsort: MOTA = 0.966587**"
      ],
      "metadata": {
        "id": "nwVnw98kGYMa"
      }
    },
    {
      "cell_type": "markdown",
      "source": [
        "# Тестирование наилучшей модели на 9000 фреймах."
      ],
      "metadata": {
        "id": "uys8-0sqGqGB"
      }
    },
    {
      "cell_type": "code",
      "source": [
        "# инициализируем объект для захвата видео\n",
        "cap = cv2.VideoCapture(video_path)  # видео основное\n",
        "\n",
        "# инициализируем объект для записи видео\n",
        "writer_deepsort = create_video_writer(cap, \"output_deepsort.mp4\")\n",
        "\n",
        "# загружаем предобученную модель YOLOv8n\n",
        "#model = YOLO(\"/content/yolov10x_v2_4_best.pt\")\n",
        "model = YOLO(\"/kaggle/input/tracking-of-bottles/Models/Models/ultralytics/yolov10x_v2_4_best.pt\")"
      ],
      "metadata": {
        "id": "AFgxzOo_7-yn",
        "execution": {
          "iopub.status.busy": "2024-09-02T17:02:58.031571Z",
          "iopub.execute_input": "2024-09-02T17:02:58.031958Z",
          "iopub.status.idle": "2024-09-02T17:02:59.597500Z",
          "shell.execute_reply.started": "2024-09-02T17:02:58.031921Z",
          "shell.execute_reply": "2024-09-02T17:02:59.596659Z"
        },
        "trusted": true,
        "outputId": "3db03e30-3e1d-4e84-ab36-67e73ab52826"
      },
      "execution_count": null,
      "outputs": [
        {
          "name": "stderr",
          "text": "OpenCV: FFMPEG: tag 0x5634504d/'MP4V' is not supported with codec id 12 and format 'mp4 / MP4 (MPEG-4 Part 14)'\nOpenCV: FFMPEG: fallback to use tag 0x7634706d/'mp4v'\n",
          "output_type": "stream"
        }
      ]
    },
    {
      "cell_type": "code",
      "source": [
        "# создаем массив для записи в него данных для расчета метрики\n",
        "track_data = np.zeros((1, 6))\n",
        "track_history = defaultdict(lambda: [])\n",
        "\n",
        "frame_time = []\n",
        "\n",
        "tracker = DeepSort(max_age=MAX_AGE, max_iou_distance=0.8)\n",
        "\n",
        "# # инициализируем цветовую карту\n",
        "cmap = plt.get_cmap('tab20b')\n",
        "colors = [cmap(i)[:3] for i in np.linspace(0, 1, 20)]\n",
        "\n",
        "# запускаем цикл по нужному количеству кадров видео\n",
        "for i in tqdm(range(1, 9001)):\n",
        "\n",
        "    cap.set(cv2.CAP_PROP_POS_FRAMES, i-1)\n",
        "    start = datetime.datetime.now()\n",
        "\n",
        "    ret, frame = cap.read()\n",
        "\n",
        "    if not ret:\n",
        "        break\n",
        "\n",
        "    # запускаем модель YOLO на фрейме\n",
        "    detections = model(frame,verbose=False)[0]\n",
        "\n",
        "    # создаем список для записи результатов детекции\n",
        "    results = []\n",
        "\n",
        "    # проходим в цикле по каждому результату детекции\n",
        "    for data in detections.boxes.data.tolist():\n",
        "        # получаем вероятность существования данного объекта\n",
        "        confidence = data[4]\n",
        "\n",
        "        if float(confidence) < CONFIDENCE_THRESHOLD:\n",
        "            continue\n",
        "\n",
        "        # если вероятность выше, чем граничная получаем координаты bbox и class_id\n",
        "        xmin, ymin, xmax, ymax = int(data[0]), int(data[1]), int(data[2]), int(data[3])\n",
        "        class_id = int(data[5])\n",
        "\n",
        "        results.append([[xmin, ymin, xmax - xmin, ymax - ymin], confidence, class_id])\n",
        "\n",
        "    # обновляем данные трекера\n",
        "    tracks = tracker.update_tracks(results, frame=frame)\n",
        "\n",
        "    # запускаем цикл по трекам\n",
        "    for track in tracks:\n",
        "\n",
        "        # получаем track id\n",
        "        track_id = track.track_id\n",
        "        # получаем координаты bbox лево-верх и право-низ\n",
        "        tlbr = track.to_tlbr(orig=True)\n",
        "\n",
        "        score = track.det_conf\n",
        "        class_id = track.det_class\n",
        "\n",
        "        if score is None or score < CONFIDENCE_THRESHOLD:\n",
        "             continue\n",
        "\n",
        "        xmin, ymin, xmax, ymax = int(tlbr[0]), int(tlbr[1]), int(tlbr[2]), int(tlbr[3])\n",
        "\n",
        "        track_data_new = np.hstack([i, track_id, xmin, ymin, (xmax-xmin), (ymax-ymin)])\n",
        "        track_data = np.vstack([track_data, track_data_new])\n",
        "\n",
        "        # рисуем bbox и добавляем подписи\n",
        "        color = colors[int(track_id) % len(colors)]\n",
        "        color = [i * 255 for i in color]\n",
        "        cv2.rectangle(frame, (xmin, ymin), (xmax, ymax), color, 3)\n",
        "        cv2.rectangle(frame, (xmin, ymin-30), (xmax, ymin), color, -1)\n",
        "        cv2.putText(frame,\n",
        "                    \"track_id: \" + str(track_id) + \"-\" + \"class \" + str(class_id),\n",
        "                     (xmin, ymin-10), 0, 0.75, (255,255,255), 2)\n",
        "\n",
        "        # находим координаты центра bbox\n",
        "        cx, cy = int((xmin+xmax)/2), int((ymin+ymax)/2)\n",
        "\n",
        "        track_info = track_history[track]\n",
        "        track_info.append((cx, cy))\n",
        "        if len(track_info) > 30:\n",
        "            track_info.pop(0)\n",
        "\n",
        "        # получаем линию трека\n",
        "        points = np.hstack(track_info).astype(np.int32).reshape((-1, 1, 2))\n",
        "        track_path = cv2.polylines(frame, [points], isClosed=False, color=(230, 230, 230), thickness=10)\n",
        "\n",
        "    # завершение фиксации времени\n",
        "    end = datetime.datetime.now()\n",
        "    # вывод времени обработки одного фрейма\n",
        "    # print(f\"Time to process 1 frame: {(end - start).total_seconds() * 1000:.0f} milliseconds\")\n",
        "    frame_time.append((end - start).total_seconds() * 1000)\n",
        "\n",
        "    # расчет количества фреймов в секунду и вывод результата\n",
        "    fps = f\"FPS: {1 / (end - start).total_seconds():.2f}\"\n",
        "    cv2.putText(frame, fps, (50, 50),\n",
        "                cv2.FONT_HERSHEY_SIMPLEX, 2, (0, 0, 255), 8)\n",
        "\n",
        "    #cv2_imshow(frame)\n",
        "    #plt.imshow(frame)\n",
        "    #plt.axis('off')\n",
        "    #plt.show()\n",
        "\n",
        "    writer_deepsort.write(frame)\n",
        "    writer_deepsort.write(track_path)\n",
        "    #if cv2.waitKey(1) == ord(\"q\"):\n",
        "    #    break\n",
        "\n",
        "cap.release()\n",
        "writer_deepsort.release()\n",
        "cv2.destroyAllWindows()\n",
        "\n",
        "# удаляем строчку с нулями\n",
        "track_data = np.delete(track_data, 0,0)"
      ],
      "metadata": {
        "id": "a2F_evqhG07D",
        "execution": {
          "iopub.status.busy": "2024-09-02T17:03:05.430298Z",
          "iopub.execute_input": "2024-09-02T17:03:05.430739Z",
          "iopub.status.idle": "2024-09-02T17:52:40.941573Z",
          "shell.execute_reply.started": "2024-09-02T17:03:05.430694Z",
          "shell.execute_reply": "2024-09-02T17:52:40.940696Z"
        },
        "trusted": true,
        "colab": {
          "referenced_widgets": [
            "dfbff0f0f26345cfa9b077b2cdd154fe"
          ]
        },
        "outputId": "71bcdddf-9629-4354-e617-a0698e7dc01f"
      },
      "execution_count": null,
      "outputs": [
        {
          "output_type": "display_data",
          "data": {
            "text/plain": "  0%|          | 0/9000 [00:00<?, ?it/s]",
            "application/vnd.jupyter.widget-view+json": {
              "version_major": 2,
              "version_minor": 0,
              "model_id": "dfbff0f0f26345cfa9b077b2cdd154fe"
            }
          },
          "metadata": {}
        }
      ]
    },
    {
      "cell_type": "code",
      "source": [
        "# расчет метрик для трекера DeepSORT на 9000 фреймах\n",
        "motMetricsEnhancedCalculator('/kaggle/input/tracking-of-bottles/mot_dataset/gt/gt.txt', track_data.astype(int),\n",
        "                             min_fr=1, max_fr=9001)"
      ],
      "metadata": {
        "id": "GrJ8klO7G1CF",
        "execution": {
          "iopub.status.busy": "2024-09-02T17:54:00.945033Z",
          "iopub.execute_input": "2024-09-02T17:54:00.945406Z",
          "iopub.status.idle": "2024-09-02T17:54:11.254653Z",
          "shell.execute_reply.started": "2024-09-02T17:54:00.945370Z",
          "shell.execute_reply": "2024-09-02T17:54:11.253654Z"
        },
        "trusted": true,
        "outputId": "eca0838b-c106-46de-b2f7-cbae38965a56"
      },
      "execution_count": null,
      "outputs": [
        {
          "execution_count": 11,
          "output_type": "execute_result",
          "data": {
            "text/plain": "     num_frames    recall  precision  num_objects  num_switches      mota  \\\nacc        9000  0.979046   0.998575        46531          1062  0.954826   \n\n         motp  \nacc  0.045139  ",
            "text/html": "<div>\n<style scoped>\n    .dataframe tbody tr th:only-of-type {\n        vertical-align: middle;\n    }\n\n    .dataframe tbody tr th {\n        vertical-align: top;\n    }\n\n    .dataframe thead th {\n        text-align: right;\n    }\n</style>\n<table border=\"1\" class=\"dataframe\">\n  <thead>\n    <tr style=\"text-align: right;\">\n      <th></th>\n      <th>num_frames</th>\n      <th>recall</th>\n      <th>precision</th>\n      <th>num_objects</th>\n      <th>num_switches</th>\n      <th>mota</th>\n      <th>motp</th>\n    </tr>\n  </thead>\n  <tbody>\n    <tr>\n      <th>acc</th>\n      <td>9000</td>\n      <td>0.979046</td>\n      <td>0.998575</td>\n      <td>46531</td>\n      <td>1062</td>\n      <td>0.954826</td>\n      <td>0.045139</td>\n    </tr>\n  </tbody>\n</table>\n</div>"
          },
          "metadata": {}
        }
      ]
    },
    {
      "cell_type": "code",
      "source": [
        "pd.Series(frame_time).describe()"
      ],
      "metadata": {
        "id": "qv34nXKiHa7o",
        "execution": {
          "iopub.status.busy": "2024-09-02T17:56:30.381099Z",
          "iopub.execute_input": "2024-09-02T17:56:30.381509Z",
          "iopub.status.idle": "2024-09-02T17:56:30.402989Z",
          "shell.execute_reply.started": "2024-09-02T17:56:30.381470Z",
          "shell.execute_reply": "2024-09-02T17:56:30.402044Z"
        },
        "trusted": true,
        "outputId": "27b7890a-d86a-481c-cfc6-4d2fe1662c75"
      },
      "execution_count": null,
      "outputs": [
        {
          "execution_count": 14,
          "output_type": "execute_result",
          "data": {
            "text/plain": "count    9000.000000\nmean      170.403839\nstd        73.899234\nmin        72.292000\n25%       119.704250\n50%       147.051500\n75%       205.283000\nmax      1769.248000\ndtype: float64"
          },
          "metadata": {}
        }
      ]
    },
    {
      "cell_type": "markdown",
      "source": [
        "## Выводы:\n",
        "\n",
        " Для улучшения работы трекера было протестировано 4 трекера на 100 фреймах:\n",
        "\n",
        "| Трекер | MOTA |\n",
        "| --- | --- |\n",
        "| BotSORT | 0.916468 |\n",
        "| ByteTrack | 0.479714 |\n",
        "| SORT | 0.873508 |\n",
        "| DeepSORT | 0.966587 |\n",
        "\n",
        " В процессе разработки решения были периодически выявленные следующие проблемы:\n",
        "  - потеря объекта\n",
        "  - фантомные треки\n",
        "  - не корректные границы ббокса\n",
        "\n",
        "Наилучшие показатели ключевой метрики проекта МОТА были получены трекером DeepSORT.\\\n",
        "**Результат MOTA на всём размеченном участке (9000 фреймов) = 0.954826.**\n",
        "\n",
        "  "
      ],
      "metadata": {
        "id": "BLPipYvTHaGp"
      }
    },
    {
      "cell_type": "code",
      "source": [],
      "metadata": {
        "id": "2nuuTNOkLstl"
      },
      "execution_count": null,
      "outputs": []
    }
  ]
}